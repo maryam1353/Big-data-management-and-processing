{
 "cells": [
  {
   "cell_type": "markdown",
   "metadata": {},
   "source": [
    "## Producer 3\n",
    "\n",
    "Producer 3 produces the data from 'hotspot_TERRA_streaming.csv' and sends it to the Apache Spark Stream for further processing. Producer 2 is a Kafka Producer and becomes a part of the Spark Stream through kafka. \n",
    "\n",
    "The csv is read and each line is processes as a list of dictionaries. Each dictionary represents a line from the file. The dictionary has the key-value pairs as corresponding to the header and respective value in the csv file. \n",
    "\n",
    "A random entry from the list is chosen to be publised as a message to the stream every 10-30 seconds and is processed into a byte stream with the topic name as 'Producer'."
   ]
  },
  {
   "cell_type": "markdown",
   "metadata": {},
   "source": [
    "### Import Libraries"
   ]
  },
  {
   "cell_type": "code",
   "execution_count": 1,
   "metadata": {},
   "outputs": [],
   "source": [
    "# import statements\n",
    "from time import sleep\n",
    "from json import dumps\n",
    "from kafka import KafkaProducer\n",
    "import random\n",
    "import datetime as dt\n",
    "import json"
   ]
  },
  {
   "cell_type": "markdown",
   "metadata": {},
   "source": [
    "### Publish Message\n",
    "Method used for publishing the message to the spark stream."
   ]
  },
  {
   "cell_type": "code",
   "execution_count": 2,
   "metadata": {},
   "outputs": [],
   "source": [
    "def publish_message(producer_instance, topic_name, key, data):\n",
    "    try:\n",
    "        # Converts the values and keys to bytes for processing.\n",
    "        value_bytes = bytes(data, encoding='utf-8')\n",
    "        key_bytes = bytes(key, encoding='utf-8')\n",
    "        # Published the message for the given instance.\n",
    "        producer_instance.send(topic_name, key=key_bytes, value=value_bytes)\n",
    "        print('Message published successfully. ' + data)\n",
    "    except Exception as ex:\n",
    "        print('Exception in publishing message.')\n",
    "        print(str(ex))"
   ]
  },
  {
   "cell_type": "markdown",
   "metadata": {},
   "source": [
    "### Connect Kafka Producer\n",
    "Method used for creating a kakfa producer."
   ]
  },
  {
   "cell_type": "code",
   "execution_count": 3,
   "metadata": {},
   "outputs": [],
   "source": [
    "def connect_kafka_producer():\n",
    "    _producer = None\n",
    "    try:\n",
    "        _producer = KafkaProducer(bootstrap_servers=['127.0.0.1:9092'],\n",
    "                                  api_version=(0, 10))\n",
    "    except Exception as ex:\n",
    "        print('Exception while connecting Kafka.')\n",
    "        print(str(ex))\n",
    "    finally:\n",
    "        return _producer"
   ]
  },
  {
   "cell_type": "markdown",
   "metadata": {},
   "source": [
    "### Read Data"
   ]
  },
  {
   "cell_type": "code",
   "execution_count": 4,
   "metadata": {},
   "outputs": [],
   "source": [
    "def read_data():\n",
    "    data_list = []\n",
    "    # Read file\n",
    "    file = open(\"hotspot_TERRA_streaming.csv\",\"r\")\n",
    "    index = 0\n",
    "    # Iterate over lines of file\n",
    "    for line in file:\n",
    "        # Split the line by commas\n",
    "        file_list = line.split(',')\n",
    "        # Get headers\n",
    "        if index == 0:\n",
    "            headers = [item.strip() for item in file_list]\n",
    "            index += 1\n",
    "            continue\n",
    "        # Add the line to a dictionary according to the headers\n",
    "        else:\n",
    "            jsonElem = {}\n",
    "            jsonElem[headers[0]] = file_list[0]\n",
    "            jsonElem[headers[1]] = file_list[1]\n",
    "            jsonElem[headers[2]] = file_list[2]\n",
    "            jsonElem[headers[3]] = file_list[3].strip()\n",
    "        data_list.append(jsonElem)\n",
    "                               \n",
    "    return data_list"
   ]
  },
  {
   "cell_type": "markdown",
   "metadata": {},
   "source": [
    "### Select record and publish message"
   ]
  },
  {
   "cell_type": "code",
   "execution_count": 5,
   "metadata": {},
   "outputs": [
    {
     "name": "stdout",
     "output_type": "stream",
     "text": [
      "Publishing records..\n",
      "Message published successfully. {\"longitude\": \"142.5634\", \"latitude\": \"-35.7421\", \"surface_temperature_celcius\": \"40\", \"confidence\": \"60\", \"Created_Time\": \"2019-05-24 21:37:43\", \"Sender_ID\": \"Producer03\"}\n",
      "Message published successfully. {\"longitude\": \"143.7119\", \"latitude\": \"-37.8817\", \"surface_temperature_celcius\": \"63\", \"confidence\": \"88\", \"Created_Time\": \"2019-05-24 21:38:07\", \"Sender_ID\": \"Producer03\"}\n",
      "Message published successfully. {\"longitude\": \"142.2657\", \"latitude\": \"-36.4925\", \"surface_temperature_celcius\": \"48\", \"confidence\": \"74\", \"Created_Time\": \"2019-05-24 21:38:29\", \"Sender_ID\": \"Producer03\"}\n",
      "Message published successfully. {\"longitude\": \"141.936\", \"latitude\": \"-37.491\", \"surface_temperature_celcius\": \"40\", \"confidence\": \"54\", \"Created_Time\": \"2019-05-24 21:38:52\", \"Sender_ID\": \"Producer03\"}\n",
      "Message published successfully. {\"longitude\": \"142.5558\", \"latitude\": \"-37.7409\", \"surface_temperature_celcius\": \"56\", \"confidence\": \"82\", \"Created_Time\": \"2019-05-24 21:39:20\", \"Sender_ID\": \"Producer03\"}\n",
      "Message published successfully. {\"longitude\": \"143.9659\", \"latitude\": \"-37.2709\", \"surface_temperature_celcius\": \"45\", \"confidence\": \"69\", \"Created_Time\": \"2019-05-24 21:39:45\", \"Sender_ID\": \"Producer03\"}\n",
      "Message published successfully. {\"longitude\": \"141.042\", \"latitude\": \"-37.0769\", \"surface_temperature_celcius\": \"72\", \"confidence\": \"93\", \"Created_Time\": \"2019-05-24 21:40:11\", \"Sender_ID\": \"Producer03\"}\n",
      "Message published successfully. {\"longitude\": \"147.4932\", \"latitude\": \"-37.3165\", \"surface_temperature_celcius\": \"72\", \"confidence\": \"93\", \"Created_Time\": \"2019-05-24 21:40:38\", \"Sender_ID\": \"Producer03\"}\n",
      "Message published successfully. {\"longitude\": \"144.0381\", \"latitude\": \"-36.8702\", \"surface_temperature_celcius\": \"47\", \"confidence\": \"73\", \"Created_Time\": \"2019-05-24 21:40:54\", \"Sender_ID\": \"Producer03\"}\n",
      "Message published successfully. {\"longitude\": \"148.9446\", \"latitude\": \"-37.1521\", \"surface_temperature_celcius\": \"46\", \"confidence\": \"66\", \"Created_Time\": \"2019-05-24 21:41:12\", \"Sender_ID\": \"Producer03\"}\n",
      "Message published successfully. {\"longitude\": \"143.4714\", \"latitude\": \"-37.5304\", \"surface_temperature_celcius\": \"50\", \"confidence\": \"77\", \"Created_Time\": \"2019-05-24 21:41:26\", \"Sender_ID\": \"Producer03\"}\n",
      "Message published successfully. {\"longitude\": \"143.935\", \"latitude\": \"-36.73\", \"surface_temperature_celcius\": \"65\", \"confidence\": \"89\", \"Created_Time\": \"2019-05-24 21:41:43\", \"Sender_ID\": \"Producer03\"}\n",
      "Message published successfully. {\"longitude\": \"141.4325\", \"latitude\": \"-35.0722\", \"surface_temperature_celcius\": \"53\", \"confidence\": \"76\", \"Created_Time\": \"2019-05-24 21:41:54\", \"Sender_ID\": \"Producer03\"}\n",
      "Message published successfully. {\"longitude\": \"146.5253\", \"latitude\": \"-38.0233\", \"surface_temperature_celcius\": \"103\", \"confidence\": \"94\", \"Created_Time\": \"2019-05-24 21:42:12\", \"Sender_ID\": \"Producer03\"}\n",
      "Message published successfully. {\"longitude\": \"145.9789\", \"latitude\": \"-37.8351\", \"surface_temperature_celcius\": \"61\", \"confidence\": \"86\", \"Created_Time\": \"2019-05-24 21:42:28\", \"Sender_ID\": \"Producer03\"}\n",
      "Message published successfully. {\"longitude\": \"142.5807\", \"latitude\": \"-36.9354\", \"surface_temperature_celcius\": \"45\", \"confidence\": \"69\", \"Created_Time\": \"2019-05-24 21:42:57\", \"Sender_ID\": \"Producer03\"}\n",
      "Message published successfully. {\"longitude\": \"141.5336\", \"latitude\": \"-37.0039\", \"surface_temperature_celcius\": \"49\", \"confidence\": \"76\", \"Created_Time\": \"2019-05-24 21:43:18\", \"Sender_ID\": \"Producer03\"}\n",
      "Message published successfully. {\"longitude\": \"143.081\", \"latitude\": \"-37.7617\", \"surface_temperature_celcius\": \"81\", \"confidence\": \"97\", \"Created_Time\": \"2019-05-24 21:43:46\", \"Sender_ID\": \"Producer03\"}\n",
      "Message published successfully. {\"longitude\": \"148.043\", \"latitude\": \"-37.386\", \"surface_temperature_celcius\": \"55\", \"confidence\": \"84\", \"Created_Time\": \"2019-05-24 21:44:05\", \"Sender_ID\": \"Producer03\"}\n",
      "Message published successfully. {\"longitude\": \"140.9737\", \"latitude\": \"-36.3207\", \"surface_temperature_celcius\": \"70\", \"confidence\": \"92\", \"Created_Time\": \"2019-05-24 21:44:34\", \"Sender_ID\": \"Producer03\"}\n",
      "Message published successfully. {\"longitude\": \"140.9956\", \"latitude\": \"-36.7257\", \"surface_temperature_celcius\": \"51\", \"confidence\": \"78\", \"Created_Time\": \"2019-05-24 21:44:57\", \"Sender_ID\": \"Producer03\"}\n",
      "Message published successfully. {\"longitude\": \"143.4276\", \"latitude\": \"-37.8641\", \"surface_temperature_celcius\": \"51\", \"confidence\": \"100\", \"Created_Time\": \"2019-05-24 21:45:07\", \"Sender_ID\": \"Producer03\"}\n",
      "Message published successfully. {\"longitude\": \"141.708\", \"latitude\": \"-36.6756\", \"surface_temperature_celcius\": \"57\", \"confidence\": \"63\", \"Created_Time\": \"2019-05-24 21:45:31\", \"Sender_ID\": \"Producer03\"}\n",
      "Message published successfully. {\"longitude\": \"143.3506\", \"latitude\": \"-36.353\", \"surface_temperature_celcius\": \"58\", \"confidence\": \"84\", \"Created_Time\": \"2019-05-24 21:45:50\", \"Sender_ID\": \"Producer03\"}\n",
      "Message published successfully. {\"longitude\": \"141.9328\", \"latitude\": \"-37.1396\", \"surface_temperature_celcius\": \"44\", \"confidence\": \"68\", \"Created_Time\": \"2019-05-24 21:46:03\", \"Sender_ID\": \"Producer03\"}\n",
      "Message published successfully. {\"longitude\": \"145.873\", \"latitude\": \"-36.0828\", \"surface_temperature_celcius\": \"75\", \"confidence\": \"94\", \"Created_Time\": \"2019-05-24 21:46:17\", \"Sender_ID\": \"Producer03\"}\n",
      "Message published successfully. {\"longitude\": \"142.9716\", \"latitude\": \"-37.6974\", \"surface_temperature_celcius\": \"50\", \"confidence\": \"77\", \"Created_Time\": \"2019-05-24 21:46:45\", \"Sender_ID\": \"Producer03\"}\n",
      "Message published successfully. {\"longitude\": \"143.3518\", \"latitude\": \"-36.7089\", \"surface_temperature_celcius\": \"93\", \"confidence\": \"100\", \"Created_Time\": \"2019-05-24 21:47:12\", \"Sender_ID\": \"Producer03\"}\n",
      "Message published successfully. {\"longitude\": \"146.8024\", \"latitude\": \"-37.1875\", \"surface_temperature_celcius\": \"52\", \"confidence\": \"79\", \"Created_Time\": \"2019-05-24 21:47:25\", \"Sender_ID\": \"Producer03\"}\n",
      "Message published successfully. {\"longitude\": \"141.3621\", \"latitude\": \"-36.797\", \"surface_temperature_celcius\": \"55\", \"confidence\": \"82\", \"Created_Time\": \"2019-05-24 21:47:43\", \"Sender_ID\": \"Producer03\"}\n",
      "Message published successfully. {\"longitude\": \"142.9426\", \"latitude\": \"-37.6171\", \"surface_temperature_celcius\": \"68\", \"confidence\": \"91\", \"Created_Time\": \"2019-05-24 21:47:56\", \"Sender_ID\": \"Producer03\"}\n",
      "Message published successfully. {\"longitude\": \"149.233\", \"latitude\": \"-37.644\", \"surface_temperature_celcius\": \"55\", \"confidence\": \"100\", \"Created_Time\": \"2019-05-24 21:48:06\", \"Sender_ID\": \"Producer03\"}\n",
      "Message published successfully. {\"longitude\": \"142.2586\", \"latitude\": \"-36.4721\", \"surface_temperature_celcius\": \"64\", \"confidence\": \"88\", \"Created_Time\": \"2019-05-24 21:48:29\", \"Sender_ID\": \"Producer03\"}\n",
      "Message published successfully. {\"longitude\": \"143.2599\", \"latitude\": \"-36.2562\", \"surface_temperature_celcius\": \"54\", \"confidence\": \"81\", \"Created_Time\": \"2019-05-24 21:48:40\", \"Sender_ID\": \"Producer03\"}\n",
      "Message published successfully. {\"longitude\": \"143.5638\", \"latitude\": \"-37.9594\", \"surface_temperature_celcius\": \"87\", \"confidence\": \"100\", \"Created_Time\": \"2019-05-24 21:49:02\", \"Sender_ID\": \"Producer03\"}\n",
      "Message published successfully. {\"longitude\": \"148.25\", \"latitude\": \"-36.984\", \"surface_temperature_celcius\": \"35\", \"confidence\": \"50\", \"Created_Time\": \"2019-05-24 21:49:28\", \"Sender_ID\": \"Producer03\"}\n",
      "Message published successfully. {\"longitude\": \"144.5747\", \"latitude\": \"-36.391\", \"surface_temperature_celcius\": \"60\", \"confidence\": \"85\", \"Created_Time\": \"2019-05-24 21:49:47\", \"Sender_ID\": \"Producer03\"}\n",
      "Message published successfully. {\"longitude\": \"141.7933\", \"latitude\": \"-36.2205\", \"surface_temperature_celcius\": \"54\", \"confidence\": \"81\", \"Created_Time\": \"2019-05-24 21:50:11\", \"Sender_ID\": \"Producer03\"}\n",
      "Message published successfully. {\"longitude\": \"142.0522\", \"latitude\": \"-34.395\", \"surface_temperature_celcius\": \"54\", \"confidence\": \"80\", \"Created_Time\": \"2019-05-24 21:50:23\", \"Sender_ID\": \"Producer03\"}\n",
      "Message published successfully. {\"longitude\": \"142.8583\", \"latitude\": \"-37.6964\", \"surface_temperature_celcius\": \"69\", \"confidence\": \"91\", \"Created_Time\": \"2019-05-24 21:50:52\", \"Sender_ID\": \"Producer03\"}\n"
     ]
    },
    {
     "name": "stdout",
     "output_type": "stream",
     "text": [
      "Message published successfully. {\"longitude\": \"144.1565\", \"latitude\": \"-37.5837\", \"surface_temperature_celcius\": \"40\", \"confidence\": \"59\", \"Created_Time\": \"2019-05-24 21:51:16\", \"Sender_ID\": \"Producer03\"}\n",
      "Message published successfully. {\"longitude\": \"143.4615\", \"latitude\": \"-37.5318\", \"surface_temperature_celcius\": \"54\", \"confidence\": \"80\", \"Created_Time\": \"2019-05-24 21:51:40\", \"Sender_ID\": \"Producer03\"}\n",
      "Message published successfully. {\"longitude\": \"145.8104\", \"latitude\": \"-36.3126\", \"surface_temperature_celcius\": \"63\", \"confidence\": \"76\", \"Created_Time\": \"2019-05-24 21:51:51\", \"Sender_ID\": \"Producer03\"}\n",
      "Message published successfully. {\"longitude\": \"149.33\", \"latitude\": \"-37.627\", \"surface_temperature_celcius\": \"42\", \"confidence\": \"92\", \"Created_Time\": \"2019-05-24 21:52:06\", \"Sender_ID\": \"Producer03\"}\n",
      "Message published successfully. {\"longitude\": \"141.9956\", \"latitude\": \"-37.1193\", \"surface_temperature_celcius\": \"54\", \"confidence\": \"81\", \"Created_Time\": \"2019-05-24 21:52:17\", \"Sender_ID\": \"Producer03\"}\n",
      "Message published successfully. {\"longitude\": \"141.245\", \"latitude\": \"-37.293\", \"surface_temperature_celcius\": \"85\", \"confidence\": \"99\", \"Created_Time\": \"2019-05-24 21:52:27\", \"Sender_ID\": \"Producer03\"}\n",
      "Message published successfully. {\"longitude\": \"144.0571\", \"latitude\": \"-38.0173\", \"surface_temperature_celcius\": \"41\", \"confidence\": \"61\", \"Created_Time\": \"2019-05-24 21:52:53\", \"Sender_ID\": \"Producer03\"}\n",
      "Message published successfully. {\"longitude\": \"145.3614\", \"latitude\": \"-37.0636\", \"surface_temperature_celcius\": \"55\", \"confidence\": \"82\", \"Created_Time\": \"2019-05-24 21:53:04\", \"Sender_ID\": \"Producer03\"}\n",
      "Message published successfully. {\"longitude\": \"143.426\", \"latitude\": \"-37.245\", \"surface_temperature_celcius\": \"44\", \"confidence\": \"78\", \"Created_Time\": \"2019-05-24 21:53:31\", \"Sender_ID\": \"Producer03\"}\n",
      "Message published successfully. {\"longitude\": \"141.0912\", \"latitude\": \"-36.2685\", \"surface_temperature_celcius\": \"40\", \"confidence\": \"60\", \"Created_Time\": \"2019-05-24 21:53:48\", \"Sender_ID\": \"Producer03\"}\n",
      "Message published successfully. {\"longitude\": \"142.366\", \"latitude\": \"-37.95\", \"surface_temperature_celcius\": \"70\", \"confidence\": \"92\", \"Created_Time\": \"2019-05-24 21:54:06\", \"Sender_ID\": \"Producer03\"}\n",
      "Message published successfully. {\"longitude\": \"142.5024\", \"latitude\": \"-36.6823\", \"surface_temperature_celcius\": \"71\", \"confidence\": \"93\", \"Created_Time\": \"2019-05-24 21:54:33\", \"Sender_ID\": \"Producer03\"}\n",
      "Message published successfully. {\"longitude\": \"149.1369\", \"latitude\": \"-37.7168\", \"surface_temperature_celcius\": \"50\", \"confidence\": \"77\", \"Created_Time\": \"2019-05-24 21:55:00\", \"Sender_ID\": \"Producer03\"}\n",
      "Message published successfully. {\"longitude\": \"148.109\", \"latitude\": \"-37.461\", \"surface_temperature_celcius\": \"33\", \"confidence\": \"69\", \"Created_Time\": \"2019-05-24 21:55:17\", \"Sender_ID\": \"Producer03\"}\n",
      "Message published successfully. {\"longitude\": \"143.3162\", \"latitude\": \"-37.8849\", \"surface_temperature_celcius\": \"45\", \"confidence\": \"70\", \"Created_Time\": \"2019-05-24 21:55:44\", \"Sender_ID\": \"Producer03\"}\n",
      "Message published successfully. {\"longitude\": \"141.076\", \"latitude\": \"-35.954\", \"surface_temperature_celcius\": \"50\", \"confidence\": \"78\", \"Created_Time\": \"2019-05-24 21:56:05\", \"Sender_ID\": \"Producer03\"}\n",
      "Message published successfully. {\"longitude\": \"143.1458\", \"latitude\": \"-37.4988\", \"surface_temperature_celcius\": \"59\", \"confidence\": \"85\", \"Created_Time\": \"2019-05-24 21:56:31\", \"Sender_ID\": \"Producer03\"}\n",
      "Message published successfully. {\"longitude\": \"142.5844\", \"latitude\": \"-36.7199\", \"surface_temperature_celcius\": \"56\", \"confidence\": \"63\", \"Created_Time\": \"2019-05-24 21:56:44\", \"Sender_ID\": \"Producer03\"}\n",
      "Message published successfully. {\"longitude\": \"141.8795\", \"latitude\": \"-37.1248\", \"surface_temperature_celcius\": \"52\", \"confidence\": \"71\", \"Created_Time\": \"2019-05-24 21:56:59\", \"Sender_ID\": \"Producer03\"}\n",
      "Message published successfully. {\"longitude\": \"143.9829\", \"latitude\": \"-38.1756\", \"surface_temperature_celcius\": \"53\", \"confidence\": \"65\", \"Created_Time\": \"2019-05-24 21:57:09\", \"Sender_ID\": \"Producer03\"}\n",
      "Message published successfully. {\"longitude\": \"143.604\", \"latitude\": \"-37.077\", \"surface_temperature_celcius\": \"48\", \"confidence\": \"74\", \"Created_Time\": \"2019-05-24 21:57:33\", \"Sender_ID\": \"Producer03\"}\n",
      "Message published successfully. {\"longitude\": \"141.138\", \"latitude\": \"-36.543\", \"surface_temperature_celcius\": \"48\", \"confidence\": \"72\", \"Created_Time\": \"2019-05-24 21:57:58\", \"Sender_ID\": \"Producer03\"}\n",
      "Message published successfully. {\"longitude\": \"141.2978\", \"latitude\": \"-36.1614\", \"surface_temperature_celcius\": \"47\", \"confidence\": \"72\", \"Created_Time\": \"2019-05-24 21:58:27\", \"Sender_ID\": \"Producer03\"}\n",
      "Message published successfully. {\"longitude\": \"147.0894\", \"latitude\": \"-38.1913\", \"surface_temperature_celcius\": \"40\", \"confidence\": \"58\", \"Created_Time\": \"2019-05-24 21:58:51\", \"Sender_ID\": \"Producer03\"}\n",
      "Message published successfully. {\"longitude\": \"143.267\", \"latitude\": \"-35.4033\", \"surface_temperature_celcius\": \"67\", \"confidence\": \"90\", \"Created_Time\": \"2019-05-24 21:59:10\", \"Sender_ID\": \"Producer03\"}\n",
      "Message published successfully. {\"longitude\": \"146.0807\", \"latitude\": \"-37.8122\", \"surface_temperature_celcius\": \"111\", \"confidence\": \"100\", \"Created_Time\": \"2019-05-24 21:59:31\", \"Sender_ID\": \"Producer03\"}\n",
      "Message published successfully. {\"longitude\": \"147.4368\", \"latitude\": \"-37.2082\", \"surface_temperature_celcius\": \"70\", \"confidence\": \"92\", \"Created_Time\": \"2019-05-24 21:59:49\", \"Sender_ID\": \"Producer03\"}\n",
      "Message published successfully. {\"longitude\": \"143.508\", \"latitude\": \"-36.907\", \"surface_temperature_celcius\": \"48\", \"confidence\": \"74\", \"Created_Time\": \"2019-05-24 22:00:02\", \"Sender_ID\": \"Producer03\"}\n",
      "Message published successfully. {\"longitude\": \"141.5296\", \"latitude\": \"-38.0308\", \"surface_temperature_celcius\": \"46\", \"confidence\": \"72\", \"Created_Time\": \"2019-05-24 22:00:32\", \"Sender_ID\": \"Producer03\"}\n",
      "Message published successfully. {\"longitude\": \"149.311\", \"latitude\": \"-37.389\", \"surface_temperature_celcius\": \"50\", \"confidence\": \"73\", \"Created_Time\": \"2019-05-24 22:00:59\", \"Sender_ID\": \"Producer03\"}\n",
      "Message published successfully. {\"longitude\": \"146.6675\", \"latitude\": \"-36.7855\", \"surface_temperature_celcius\": \"55\", \"confidence\": \"76\", \"Created_Time\": \"2019-05-24 22:01:22\", \"Sender_ID\": \"Producer03\"}\n",
      "Message published successfully. {\"longitude\": \"148.073\", \"latitude\": \"-37.336\", \"surface_temperature_celcius\": \"38\", \"confidence\": \"82\", \"Created_Time\": \"2019-05-24 22:01:46\", \"Sender_ID\": \"Producer03\"}\n",
      "Message published successfully. {\"longitude\": \"142.8549\", \"latitude\": \"-36.5886\", \"surface_temperature_celcius\": \"39\", \"confidence\": \"55\", \"Created_Time\": \"2019-05-24 22:02:09\", \"Sender_ID\": \"Producer03\"}\n",
      "Message published successfully. {\"longitude\": \"142.5339\", \"latitude\": \"-37.8051\", \"surface_temperature_celcius\": \"47\", \"confidence\": \"73\", \"Created_Time\": \"2019-05-24 22:02:21\", \"Sender_ID\": \"Producer03\"}\n",
      "Message published successfully. {\"longitude\": \"142.5842\", \"latitude\": \"-37.8704\", \"surface_temperature_celcius\": \"48\", \"confidence\": \"74\", \"Created_Time\": \"2019-05-24 22:02:42\", \"Sender_ID\": \"Producer03\"}\n",
      "Message published successfully. {\"longitude\": \"141.6183\", \"latitude\": \"-34.2674\", \"surface_temperature_celcius\": \"51\", \"confidence\": \"77\", \"Created_Time\": \"2019-05-24 22:03:05\", \"Sender_ID\": \"Producer03\"}\n",
      "Message published successfully. {\"longitude\": \"141.7292\", \"latitude\": \"-34.5396\", \"surface_temperature_celcius\": \"43\", \"confidence\": \"65\", \"Created_Time\": \"2019-05-24 22:03:34\", \"Sender_ID\": \"Producer03\"}\n",
      "Message published successfully. {\"longitude\": \"149.279\", \"latitude\": \"-37.61\", \"surface_temperature_celcius\": \"48\", \"confidence\": \"69\", \"Created_Time\": \"2019-05-24 22:03:58\", \"Sender_ID\": \"Producer03\"}\n",
      "Message published successfully. {\"longitude\": \"142.4349\", \"latitude\": \"-36.6281\", \"surface_temperature_celcius\": \"68\", \"confidence\": \"64\", \"Created_Time\": \"2019-05-24 22:04:13\", \"Sender_ID\": \"Producer03\"}\n",
      "Message published successfully. {\"longitude\": \"141.4938\", \"latitude\": \"-36.2127\", \"surface_temperature_celcius\": \"51\", \"confidence\": \"78\", \"Created_Time\": \"2019-05-24 22:04:42\", \"Sender_ID\": \"Producer03\"}\n",
      "Message published successfully. {\"longitude\": \"142.5339\", \"latitude\": \"-37.8051\", \"surface_temperature_celcius\": \"47\", \"confidence\": \"73\", \"Created_Time\": \"2019-05-24 22:05:09\", \"Sender_ID\": \"Producer03\"}\n"
     ]
    },
    {
     "name": "stdout",
     "output_type": "stream",
     "text": [
      "Message published successfully. {\"longitude\": \"141.8786\", \"latitude\": \"-36.8846\", \"surface_temperature_celcius\": \"64\", \"confidence\": \"89\", \"Created_Time\": \"2019-05-24 22:05:37\", \"Sender_ID\": \"Producer03\"}\n",
      "Message published successfully. {\"longitude\": \"143.767\", \"latitude\": \"-36.1\", \"surface_temperature_celcius\": \"44\", \"confidence\": \"77\", \"Created_Time\": \"2019-05-24 22:05:49\", \"Sender_ID\": \"Producer03\"}\n",
      "Message published successfully. {\"longitude\": \"145.1836\", \"latitude\": \"-36.1841\", \"surface_temperature_celcius\": \"52\", \"confidence\": \"79\", \"Created_Time\": \"2019-05-24 22:06:03\", \"Sender_ID\": \"Producer03\"}\n",
      "Message published successfully. {\"longitude\": \"141.6816\", \"latitude\": \"-36.4183\", \"surface_temperature_celcius\": \"62\", \"confidence\": \"87\", \"Created_Time\": \"2019-05-24 22:06:20\", \"Sender_ID\": \"Producer03\"}\n",
      "Message published successfully. {\"longitude\": \"144.7594\", \"latitude\": \"-36.6463\", \"surface_temperature_celcius\": \"41\", \"confidence\": \"59\", \"Created_Time\": \"2019-05-24 22:06:46\", \"Sender_ID\": \"Producer03\"}\n",
      "Message published successfully. {\"longitude\": \"142.9848\", \"latitude\": \"-37.6745\", \"surface_temperature_celcius\": \"48\", \"confidence\": \"75\", \"Created_Time\": \"2019-05-24 22:07:16\", \"Sender_ID\": \"Producer03\"}\n",
      "Message published successfully. {\"longitude\": \"140.9956\", \"latitude\": \"-36.7257\", \"surface_temperature_celcius\": \"51\", \"confidence\": \"78\", \"Created_Time\": \"2019-05-24 22:07:36\", \"Sender_ID\": \"Producer03\"}\n",
      "Message published successfully. {\"longitude\": \"148.5154\", \"latitude\": \"-37.6865\", \"surface_temperature_celcius\": \"50\", \"confidence\": \"66\", \"Created_Time\": \"2019-05-24 22:07:58\", \"Sender_ID\": \"Producer03\"}\n",
      "Message published successfully. {\"longitude\": \"141.7206\", \"latitude\": \"-36.1574\", \"surface_temperature_celcius\": \"57\", \"confidence\": \"83\", \"Created_Time\": \"2019-05-24 22:08:24\", \"Sender_ID\": \"Producer03\"}\n",
      "Message published successfully. {\"longitude\": \"145.5876\", \"latitude\": \"-36.3275\", \"surface_temperature_celcius\": \"44\", \"confidence\": \"68\", \"Created_Time\": \"2019-05-24 22:08:45\", \"Sender_ID\": \"Producer03\"}\n",
      "Message published successfully. {\"longitude\": \"148.5131\", \"latitude\": \"-37.6775\", \"surface_temperature_celcius\": \"78\", \"confidence\": \"86\", \"Created_Time\": \"2019-05-24 22:08:59\", \"Sender_ID\": \"Producer03\"}\n",
      "Message published successfully. {\"longitude\": \"145.3929\", \"latitude\": \"-36.5577\", \"surface_temperature_celcius\": \"64\", \"confidence\": \"88\", \"Created_Time\": \"2019-05-24 22:09:18\", \"Sender_ID\": \"Producer03\"}\n",
      "Message published successfully. {\"longitude\": \"142.7297\", \"latitude\": \"-35.7981\", \"surface_temperature_celcius\": \"60\", \"confidence\": \"85\", \"Created_Time\": \"2019-05-24 22:09:28\", \"Sender_ID\": \"Producer03\"}\n",
      "Message published successfully. {\"longitude\": \"145.8\", \"latitude\": \"-36.2851\", \"surface_temperature_celcius\": \"64\", \"confidence\": \"88\", \"Created_Time\": \"2019-05-24 22:09:39\", \"Sender_ID\": \"Producer03\"}\n",
      "Message published successfully. {\"longitude\": \"145.9738\", \"latitude\": \"-37.8072\", \"surface_temperature_celcius\": \"77\", \"confidence\": \"95\", \"Created_Time\": \"2019-05-24 22:09:52\", \"Sender_ID\": \"Producer03\"}\n",
      "Message published successfully. {\"longitude\": \"143.64\", \"latitude\": \"-38.0525\", \"surface_temperature_celcius\": \"43\", \"confidence\": \"65\", \"Created_Time\": \"2019-05-24 22:10:20\", \"Sender_ID\": \"Producer03\"}\n",
      "Message published successfully. {\"longitude\": \"141.7692\", \"latitude\": \"-36.2889\", \"surface_temperature_celcius\": \"51\", \"confidence\": \"64\", \"Created_Time\": \"2019-05-24 22:10:32\", \"Sender_ID\": \"Producer03\"}\n",
      "Message published successfully. {\"longitude\": \"141.2317\", \"latitude\": \"-36.993\", \"surface_temperature_celcius\": \"43\", \"confidence\": \"67\", \"Created_Time\": \"2019-05-24 22:10:54\", \"Sender_ID\": \"Producer03\"}\n",
      "Message published successfully. {\"longitude\": \"142.3299\", \"latitude\": \"-37.7037\", \"surface_temperature_celcius\": \"41\", \"confidence\": \"62\", \"Created_Time\": \"2019-05-24 22:11:16\", \"Sender_ID\": \"Producer03\"}\n",
      "Message published successfully. {\"longitude\": \"148.067\", \"latitude\": \"-37.401\", \"surface_temperature_celcius\": \"79\", \"confidence\": \"100\", \"Created_Time\": \"2019-05-24 22:11:33\", \"Sender_ID\": \"Producer03\"}\n",
      "Message published successfully. {\"longitude\": \"141.3552\", \"latitude\": \"-36.8346\", \"surface_temperature_celcius\": \"61\", \"confidence\": \"86\", \"Created_Time\": \"2019-05-24 22:12:03\", \"Sender_ID\": \"Producer03\"}\n",
      "Message published successfully. {\"longitude\": \"143.8907\", \"latitude\": \"-36.0459\", \"surface_temperature_celcius\": \"48\", \"confidence\": \"74\", \"Created_Time\": \"2019-05-24 22:12:13\", \"Sender_ID\": \"Producer03\"}\n",
      "Message published successfully. {\"longitude\": \"142.9091\", \"latitude\": \"-37.4444\", \"surface_temperature_celcius\": \"45\", \"confidence\": \"71\", \"Created_Time\": \"2019-05-24 22:12:34\", \"Sender_ID\": \"Producer03\"}\n",
      "Message published successfully. {\"longitude\": \"145.5629\", \"latitude\": \"-36.4208\", \"surface_temperature_celcius\": \"48\", \"confidence\": \"75\", \"Created_Time\": \"2019-05-24 22:12:52\", \"Sender_ID\": \"Producer03\"}\n",
      "Message published successfully. {\"longitude\": \"143.381\", \"latitude\": \"-37.9309\", \"surface_temperature_celcius\": \"44\", \"confidence\": \"68\", \"Created_Time\": \"2019-05-24 22:13:15\", \"Sender_ID\": \"Producer03\"}\n",
      "Message published successfully. {\"longitude\": \"143.775\", \"latitude\": \"-36.5049\", \"surface_temperature_celcius\": \"43\", \"confidence\": \"66\", \"Created_Time\": \"2019-05-24 22:13:44\", \"Sender_ID\": \"Producer03\"}\n",
      "Message published successfully. {\"longitude\": \"149.3776\", \"latitude\": \"-37.3176\", \"surface_temperature_celcius\": \"43\", \"confidence\": \"76\", \"Created_Time\": \"2019-05-24 22:13:56\", \"Sender_ID\": \"Producer03\"}\n",
      "Message published successfully. {\"longitude\": \"143.2873\", \"latitude\": \"-37.9171\", \"surface_temperature_celcius\": \"46\", \"confidence\": \"72\", \"Created_Time\": \"2019-05-24 22:14:15\", \"Sender_ID\": \"Producer03\"}\n",
      "Message published successfully. {\"longitude\": \"144.695\", \"latitude\": \"-36.6303\", \"surface_temperature_celcius\": \"46\", \"confidence\": \"72\", \"Created_Time\": \"2019-05-24 22:14:32\", \"Sender_ID\": \"Producer03\"}\n",
      "Message published successfully. {\"longitude\": \"145.0695\", \"latitude\": \"-36.1029\", \"surface_temperature_celcius\": \"43\", \"confidence\": \"66\", \"Created_Time\": \"2019-05-24 22:14:57\", \"Sender_ID\": \"Producer03\"}\n",
      "Message published successfully. {\"longitude\": \"144.6536\", \"latitude\": \"-37.671\", \"surface_temperature_celcius\": \"58\", \"confidence\": \"84\", \"Created_Time\": \"2019-05-24 22:15:19\", \"Sender_ID\": \"Producer03\"}\n",
      "Message published successfully. {\"longitude\": \"143.6763\", \"latitude\": \"-35.9065\", \"surface_temperature_celcius\": \"49\", \"confidence\": \"75\", \"Created_Time\": \"2019-05-24 22:15:34\", \"Sender_ID\": \"Producer03\"}\n",
      "Message published successfully. {\"longitude\": \"143.0339\", \"latitude\": \"-37.778\", \"surface_temperature_celcius\": \"53\", \"confidence\": \"77\", \"Created_Time\": \"2019-05-24 22:15:57\", \"Sender_ID\": \"Producer03\"}\n",
      "Message published successfully. {\"longitude\": \"144.1287\", \"latitude\": \"-36.3933\", \"surface_temperature_celcius\": \"63\", \"confidence\": \"87\", \"Created_Time\": \"2019-05-24 22:16:13\", \"Sender_ID\": \"Producer03\"}\n",
      "Message published successfully. {\"longitude\": \"142.5191\", \"latitude\": \"-36.6296\", \"surface_temperature_celcius\": \"45\", \"confidence\": \"70\", \"Created_Time\": \"2019-05-24 22:16:31\", \"Sender_ID\": \"Producer03\"}\n",
      "Message published successfully. {\"longitude\": \"144.1473\", \"latitude\": \"-36.5513\", \"surface_temperature_celcius\": \"43\", \"confidence\": \"66\", \"Created_Time\": \"2019-05-24 22:16:42\", \"Sender_ID\": \"Producer03\"}\n",
      "Message published successfully. {\"longitude\": \"141.153\", \"latitude\": \"-37.242\", \"surface_temperature_celcius\": \"43\", \"confidence\": \"77\", \"Created_Time\": \"2019-05-24 22:16:55\", \"Sender_ID\": \"Producer03\"}\n",
      "Message published successfully. {\"longitude\": \"143.791\", \"latitude\": \"-35.962\", \"surface_temperature_celcius\": \"42\", \"confidence\": \"76\", \"Created_Time\": \"2019-05-24 22:17:16\", \"Sender_ID\": \"Producer03\"}\n",
      "Message published successfully. {\"longitude\": \"142.5634\", \"latitude\": \"-35.7421\", \"surface_temperature_celcius\": \"40\", \"confidence\": \"60\", \"Created_Time\": \"2019-05-24 22:17:36\", \"Sender_ID\": \"Producer03\"}\n",
      "Message published successfully. {\"longitude\": \"141.6168\", \"latitude\": \"-36.7034\", \"surface_temperature_celcius\": \"46\", \"confidence\": \"71\", \"Created_Time\": \"2019-05-24 22:17:54\", \"Sender_ID\": \"Producer03\"}\n",
      "Message published successfully. {\"longitude\": \"143.281\", \"latitude\": \"-36.94\", \"surface_temperature_celcius\": \"69\", \"confidence\": \"89\", \"Created_Time\": \"2019-05-24 22:18:08\", \"Sender_ID\": \"Producer03\"}\n"
     ]
    },
    {
     "name": "stdout",
     "output_type": "stream",
     "text": [
      "Message published successfully. {\"longitude\": \"141.1299\", \"latitude\": \"-36.6798\", \"surface_temperature_celcius\": \"50\", \"confidence\": \"76\", \"Created_Time\": \"2019-05-24 22:18:29\", \"Sender_ID\": \"Producer03\"}\n",
      "Message published successfully. {\"longitude\": \"144.11\", \"latitude\": \"-36.3445\", \"surface_temperature_celcius\": \"59\", \"confidence\": \"85\", \"Created_Time\": \"2019-05-24 22:18:54\", \"Sender_ID\": \"Producer03\"}\n",
      "Message published successfully. {\"longitude\": \"141.176\", \"latitude\": \"-37.236\", \"surface_temperature_celcius\": \"37\", \"confidence\": \"68\", \"Created_Time\": \"2019-05-24 22:19:15\", \"Sender_ID\": \"Producer03\"}\n",
      "Message published successfully. {\"longitude\": \"148.073\", \"latitude\": \"-37.336\", \"surface_temperature_celcius\": \"38\", \"confidence\": \"82\", \"Created_Time\": \"2019-05-24 22:19:32\", \"Sender_ID\": \"Producer03\"}\n",
      "Message published successfully. {\"longitude\": \"145.6489\", \"latitude\": \"-35.9435\", \"surface_temperature_celcius\": \"51\", \"confidence\": \"78\", \"Created_Time\": \"2019-05-24 22:19:42\", \"Sender_ID\": \"Producer03\"}\n",
      "Message published successfully. {\"longitude\": \"142.0521\", \"latitude\": \"-36.916\", \"surface_temperature_celcius\": \"55\", \"confidence\": \"82\", \"Created_Time\": \"2019-05-24 22:20:01\", \"Sender_ID\": \"Producer03\"}\n",
      "Message published successfully. {\"longitude\": \"143.4999\", \"latitude\": \"-37.8326\", \"surface_temperature_celcius\": \"120\", \"confidence\": \"100\", \"Created_Time\": \"2019-05-24 22:20:17\", \"Sender_ID\": \"Producer03\"}\n",
      "Message published successfully. {\"longitude\": \"147.2118\", \"latitude\": \"-37.8339\", \"surface_temperature_celcius\": \"113\", \"confidence\": \"100\", \"Created_Time\": \"2019-05-24 22:20:34\", \"Sender_ID\": \"Producer03\"}\n",
      "Message published successfully. {\"longitude\": \"142.2956\", \"latitude\": \"-36.5661\", \"surface_temperature_celcius\": \"65\", \"confidence\": \"89\", \"Created_Time\": \"2019-05-24 22:20:52\", \"Sender_ID\": \"Producer03\"}\n",
      "Message published successfully. {\"longitude\": \"142.4792\", \"latitude\": \"-36.2583\", \"surface_temperature_celcius\": \"55\", \"confidence\": \"81\", \"Created_Time\": \"2019-05-24 22:21:17\", \"Sender_ID\": \"Producer03\"}\n",
      "Message published successfully. {\"longitude\": \"142.0219\", \"latitude\": \"-36.8083\", \"surface_temperature_celcius\": \"44\", \"confidence\": \"67\", \"Created_Time\": \"2019-05-24 22:21:28\", \"Sender_ID\": \"Producer03\"}\n",
      "Message published successfully. {\"longitude\": \"141.0669\", \"latitude\": \"-36.4147\", \"surface_temperature_celcius\": \"39\", \"confidence\": \"56\", \"Created_Time\": \"2019-05-24 22:21:38\", \"Sender_ID\": \"Producer03\"}\n",
      "Message published successfully. {\"longitude\": \"141.4578\", \"latitude\": \"-37.4786\", \"surface_temperature_celcius\": \"45\", \"confidence\": \"70\", \"Created_Time\": \"2019-05-24 22:21:58\", \"Sender_ID\": \"Producer03\"}\n",
      "Message published successfully. {\"longitude\": \"142.9843\", \"latitude\": \"-37.4543\", \"surface_temperature_celcius\": \"61\", \"confidence\": \"86\", \"Created_Time\": \"2019-05-24 22:22:13\", \"Sender_ID\": \"Producer03\"}\n",
      "Message published successfully. {\"longitude\": \"143.3823\", \"latitude\": \"-36.2723\", \"surface_temperature_celcius\": \"43\", \"confidence\": \"67\", \"Created_Time\": \"2019-05-24 22:22:41\", \"Sender_ID\": \"Producer03\"}\n",
      "Message published successfully. {\"longitude\": \"146.0567\", \"latitude\": \"-38.0361\", \"surface_temperature_celcius\": \"90\", \"confidence\": \"100\", \"Created_Time\": \"2019-05-24 22:22:54\", \"Sender_ID\": \"Producer03\"}\n",
      "Message published successfully. {\"longitude\": \"147.0448\", \"latitude\": \"-37.4003\", \"surface_temperature_celcius\": \"55\", \"confidence\": \"61\", \"Created_Time\": \"2019-05-24 22:23:18\", \"Sender_ID\": \"Producer03\"}\n",
      "Message published successfully. {\"longitude\": \"142.204\", \"latitude\": \"-34.2838\", \"surface_temperature_celcius\": \"58\", \"confidence\": \"84\", \"Created_Time\": \"2019-05-24 22:23:40\", \"Sender_ID\": \"Producer03\"}\n",
      "Message published successfully. {\"longitude\": \"143.1444\", \"latitude\": \"-37.4352\", \"surface_temperature_celcius\": \"96\", \"confidence\": \"100\", \"Created_Time\": \"2019-05-24 22:24:01\", \"Sender_ID\": \"Producer03\"}\n",
      "Message published successfully. {\"longitude\": \"144.213\", \"latitude\": \"-38.048\", \"surface_temperature_celcius\": \"55\", \"confidence\": \"82\", \"Created_Time\": \"2019-05-24 22:24:24\", \"Sender_ID\": \"Producer03\"}\n",
      "Message published successfully. {\"longitude\": \"142.718\", \"latitude\": \"-37.7871\", \"surface_temperature_celcius\": \"45\", \"confidence\": \"70\", \"Created_Time\": \"2019-05-24 22:24:54\", \"Sender_ID\": \"Producer03\"}\n",
      "Message published successfully. {\"longitude\": \"149.33\", \"latitude\": \"-37.636\", \"surface_temperature_celcius\": \"43\", \"confidence\": \"94\", \"Created_Time\": \"2019-05-24 22:25:18\", \"Sender_ID\": \"Producer03\"}\n",
      "Message published successfully. {\"longitude\": \"141.2905\", \"latitude\": \"-36.1603\", \"surface_temperature_celcius\": \"40\", \"confidence\": \"59\", \"Created_Time\": \"2019-05-24 22:25:44\", \"Sender_ID\": \"Producer03\"}\n",
      "Message published successfully. {\"longitude\": \"143.092\", \"latitude\": \"-37.785\", \"surface_temperature_celcius\": \"41\", \"confidence\": \"56\", \"Created_Time\": \"2019-05-24 22:26:05\", \"Sender_ID\": \"Producer03\"}\n",
      "Message published successfully. {\"longitude\": \"143.0869\", \"latitude\": \"-37.4621\", \"surface_temperature_celcius\": \"48\", \"confidence\": \"75\", \"Created_Time\": \"2019-05-24 22:26:17\", \"Sender_ID\": \"Producer03\"}\n",
      "Message published successfully. {\"longitude\": \"143.102\", \"latitude\": \"-37.4506\", \"surface_temperature_celcius\": \"52\", \"confidence\": \"79\", \"Created_Time\": \"2019-05-24 22:26:45\", \"Sender_ID\": \"Producer03\"}\n",
      "Message published successfully. {\"longitude\": \"141.9682\", \"latitude\": \"-36.9071\", \"surface_temperature_celcius\": \"49\", \"confidence\": \"66\", \"Created_Time\": \"2019-05-24 22:27:02\", \"Sender_ID\": \"Producer03\"}\n",
      "Message published successfully. {\"longitude\": \"144.605\", \"latitude\": \"-36.055\", \"surface_temperature_celcius\": \"39\", \"confidence\": \"54\", \"Created_Time\": \"2019-05-24 22:27:15\", \"Sender_ID\": \"Producer03\"}\n",
      "Message published successfully. {\"longitude\": \"143.9822\", \"latitude\": \"-38.1584\", \"surface_temperature_celcius\": \"47\", \"confidence\": \"72\", \"Created_Time\": \"2019-05-24 22:27:33\", \"Sender_ID\": \"Producer03\"}\n",
      "Message published successfully. {\"longitude\": \"148.126\", \"latitude\": \"-37.379\", \"surface_temperature_celcius\": \"82\", \"confidence\": \"58\", \"Created_Time\": \"2019-05-24 22:27:50\", \"Sender_ID\": \"Producer03\"}\n",
      "Message published successfully. {\"longitude\": \"145.6229\", \"latitude\": \"-35.9498\", \"surface_temperature_celcius\": \"41\", \"confidence\": \"54\", \"Created_Time\": \"2019-05-24 22:28:01\", \"Sender_ID\": \"Producer03\"}\n",
      "Message published successfully. {\"longitude\": \"142.7722\", \"latitude\": \"-36.3096\", \"surface_temperature_celcius\": \"59\", \"confidence\": \"85\", \"Created_Time\": \"2019-05-24 22:28:13\", \"Sender_ID\": \"Producer03\"}\n",
      "Message published successfully. {\"longitude\": \"146.8652\", \"latitude\": \"-38.2153\", \"surface_temperature_celcius\": \"40\", \"confidence\": \"82\", \"Created_Time\": \"2019-05-24 22:28:33\", \"Sender_ID\": \"Producer03\"}\n",
      "Message published successfully. {\"longitude\": \"143.272\", \"latitude\": \"-36.4143\", \"surface_temperature_celcius\": \"65\", \"confidence\": \"89\", \"Created_Time\": \"2019-05-24 22:28:54\", \"Sender_ID\": \"Producer03\"}\n",
      "Message published successfully. {\"longitude\": \"142.0219\", \"latitude\": \"-36.8083\", \"surface_temperature_celcius\": \"44\", \"confidence\": \"67\", \"Created_Time\": \"2019-05-24 22:29:19\", \"Sender_ID\": \"Producer03\"}\n",
      "Message published successfully. {\"longitude\": \"143.4782\", \"latitude\": \"-36.0888\", \"surface_temperature_celcius\": \"56\", \"confidence\": \"83\", \"Created_Time\": \"2019-05-24 22:29:44\", \"Sender_ID\": \"Producer03\"}\n",
      "Message published successfully. {\"longitude\": \"143.1637\", \"latitude\": \"-35.7024\", \"surface_temperature_celcius\": \"39\", \"confidence\": \"81\", \"Created_Time\": \"2019-05-24 22:29:57\", \"Sender_ID\": \"Producer03\"}\n",
      "Message published successfully. {\"longitude\": \"143.4937\", \"latitude\": \"-35.7842\", \"surface_temperature_celcius\": \"52\", \"confidence\": \"79\", \"Created_Time\": \"2019-05-24 22:30:21\", \"Sender_ID\": \"Producer03\"}\n",
      "Message published successfully. {\"longitude\": \"144.3115\", \"latitude\": \"-37.9378\", \"surface_temperature_celcius\": \"62\", \"confidence\": \"87\", \"Created_Time\": \"2019-05-24 22:30:40\", \"Sender_ID\": \"Producer03\"}\n",
      "Message published successfully. {\"longitude\": \"145.5037\", \"latitude\": \"-36.649\", \"surface_temperature_celcius\": \"48\", \"confidence\": \"74\", \"Created_Time\": \"2019-05-24 22:31:06\", \"Sender_ID\": \"Producer03\"}\n",
      "Message published successfully. {\"longitude\": \"141.5508\", \"latitude\": \"-36.4287\", \"surface_temperature_celcius\": \"47\", \"confidence\": \"71\", \"Created_Time\": \"2019-05-24 22:31:32\", \"Sender_ID\": \"Producer03\"}\n"
     ]
    },
    {
     "name": "stdout",
     "output_type": "stream",
     "text": [
      "Message published successfully. {\"longitude\": \"141.9044\", \"latitude\": \"-36.7848\", \"surface_temperature_celcius\": \"61\", \"confidence\": \"85\", \"Created_Time\": \"2019-05-24 22:31:58\", \"Sender_ID\": \"Producer03\"}\n",
      "Message published successfully. {\"longitude\": \"141.4699\", \"latitude\": \"-34.4501\", \"surface_temperature_celcius\": \"52\", \"confidence\": \"79\", \"Created_Time\": \"2019-05-24 22:32:12\", \"Sender_ID\": \"Producer03\"}\n",
      "Message published successfully. {\"longitude\": \"141.3013\", \"latitude\": \"-36.9142\", \"surface_temperature_celcius\": \"40\", \"confidence\": \"57\", \"Created_Time\": \"2019-05-24 22:32:39\", \"Sender_ID\": \"Producer03\"}\n",
      "Message published successfully. {\"longitude\": \"142.9052\", \"latitude\": \"-36.7483\", \"surface_temperature_celcius\": \"54\", \"confidence\": \"76\", \"Created_Time\": \"2019-05-24 22:32:52\", \"Sender_ID\": \"Producer03\"}\n",
      "Message published successfully. {\"longitude\": \"143.1556\", \"latitude\": \"-36.5245\", \"surface_temperature_celcius\": \"43\", \"confidence\": \"57\", \"Created_Time\": \"2019-05-24 22:33:20\", \"Sender_ID\": \"Producer03\"}\n",
      "Message published successfully. {\"longitude\": \"147.5559\", \"latitude\": \"-36.9246\", \"surface_temperature_celcius\": \"62\", \"confidence\": \"87\", \"Created_Time\": \"2019-05-24 22:33:46\", \"Sender_ID\": \"Producer03\"}\n",
      "Message published successfully. {\"longitude\": \"143.1877\", \"latitude\": \"-37.4732\", \"surface_temperature_celcius\": \"48\", \"confidence\": \"74\", \"Created_Time\": \"2019-05-24 22:34:14\", \"Sender_ID\": \"Producer03\"}\n",
      "Message published successfully. {\"longitude\": \"149.232\", \"latitude\": \"-37.63\", \"surface_temperature_celcius\": \"42\", \"confidence\": \"81\", \"Created_Time\": \"2019-05-24 22:34:31\", \"Sender_ID\": \"Producer03\"}\n",
      "Message published successfully. {\"longitude\": \"148.097\", \"latitude\": \"-37.477\", \"surface_temperature_celcius\": \"61\", \"confidence\": \"85\", \"Created_Time\": \"2019-05-24 22:34:57\", \"Sender_ID\": \"Producer03\"}\n",
      "Message published successfully. {\"longitude\": \"141.3095\", \"latitude\": \"-36.9179\", \"surface_temperature_celcius\": \"40\", \"confidence\": \"59\", \"Created_Time\": \"2019-05-24 22:35:21\", \"Sender_ID\": \"Producer03\"}\n",
      "Message published successfully. {\"longitude\": \"143.1388\", \"latitude\": \"-37.7756\", \"surface_temperature_celcius\": \"67\", \"confidence\": \"90\", \"Created_Time\": \"2019-05-24 22:35:34\", \"Sender_ID\": \"Producer03\"}\n",
      "Message published successfully. {\"longitude\": \"143.5638\", \"latitude\": \"-37.9594\", \"surface_temperature_celcius\": \"87\", \"confidence\": \"100\", \"Created_Time\": \"2019-05-24 22:35:56\", \"Sender_ID\": \"Producer03\"}\n",
      "Message published successfully. {\"longitude\": \"141.7183\", \"latitude\": \"-36.0396\", \"surface_temperature_celcius\": \"76\", \"confidence\": \"95\", \"Created_Time\": \"2019-05-24 22:36:26\", \"Sender_ID\": \"Producer03\"}\n",
      "Message published successfully. {\"longitude\": \"143.3162\", \"latitude\": \"-37.8849\", \"surface_temperature_celcius\": \"45\", \"confidence\": \"70\", \"Created_Time\": \"2019-05-24 22:36:54\", \"Sender_ID\": \"Producer03\"}\n",
      "Message published successfully. {\"longitude\": \"141.0574\", \"latitude\": \"-37.0761\", \"surface_temperature_celcius\": \"89\", \"confidence\": \"100\", \"Created_Time\": \"2019-05-24 22:37:21\", \"Sender_ID\": \"Producer03\"}\n",
      "Message published successfully. {\"longitude\": \"142.1286\", \"latitude\": \"-35.8125\", \"surface_temperature_celcius\": \"109\", \"confidence\": \"75\", \"Created_Time\": \"2019-05-24 22:37:31\", \"Sender_ID\": \"Producer03\"}\n",
      "Message published successfully. {\"longitude\": \"144.386\", \"latitude\": \"-37.296\", \"surface_temperature_celcius\": \"54\", \"confidence\": \"65\", \"Created_Time\": \"2019-05-24 22:37:46\", \"Sender_ID\": \"Producer03\"}\n",
      "Message published successfully. {\"longitude\": \"146.0601\", \"latitude\": \"-36.3195\", \"surface_temperature_celcius\": \"77\", \"confidence\": \"83\", \"Created_Time\": \"2019-05-24 22:38:09\", \"Sender_ID\": \"Producer03\"}\n",
      "Message published successfully. {\"longitude\": \"141.9183\", \"latitude\": \"-37.9072\", \"surface_temperature_celcius\": \"53\", \"confidence\": \"79\", \"Created_Time\": \"2019-05-24 22:38:34\", \"Sender_ID\": \"Producer03\"}\n",
      "Message published successfully. {\"longitude\": \"141.1567\", \"latitude\": \"-36.4286\", \"surface_temperature_celcius\": \"84\", \"confidence\": \"99\", \"Created_Time\": \"2019-05-24 22:38:59\", \"Sender_ID\": \"Producer03\"}\n",
      "Message published successfully. {\"longitude\": \"142.6017\", \"latitude\": \"-36.7287\", \"surface_temperature_celcius\": \"85\", \"confidence\": \"99\", \"Created_Time\": \"2019-05-24 22:39:20\", \"Sender_ID\": \"Producer03\"}\n",
      "Message published successfully. {\"longitude\": \"146.1402\", \"latitude\": \"-36.3499\", \"surface_temperature_celcius\": \"41\", \"confidence\": \"53\", \"Created_Time\": \"2019-05-24 22:39:45\", \"Sender_ID\": \"Producer03\"}\n",
      "Message published successfully. {\"longitude\": \"145.8275\", \"latitude\": \"-36.1687\", \"surface_temperature_celcius\": \"44\", \"confidence\": \"68\", \"Created_Time\": \"2019-05-24 22:40:08\", \"Sender_ID\": \"Producer03\"}\n",
      "Message published successfully. {\"longitude\": \"143.3497\", \"latitude\": \"-37.7194\", \"surface_temperature_celcius\": \"45\", \"confidence\": \"70\", \"Created_Time\": \"2019-05-24 22:40:33\", \"Sender_ID\": \"Producer03\"}\n",
      "Message published successfully. {\"longitude\": \"149.0754\", \"latitude\": \"-37.1609\", \"surface_temperature_celcius\": \"58\", \"confidence\": \"84\", \"Created_Time\": \"2019-05-24 22:40:52\", \"Sender_ID\": \"Producer03\"}\n",
      "Message published successfully. {\"longitude\": \"148.034\", \"latitude\": \"-37.57\", \"surface_temperature_celcius\": \"56\", \"confidence\": \"86\", \"Created_Time\": \"2019-05-24 22:41:12\", \"Sender_ID\": \"Producer03\"}\n",
      "Message published successfully. {\"longitude\": \"141.3765\", \"latitude\": \"-36.4204\", \"surface_temperature_celcius\": \"57\", \"confidence\": \"73\", \"Created_Time\": \"2019-05-24 22:41:28\", \"Sender_ID\": \"Producer03\"}\n",
      "Message published successfully. {\"longitude\": \"144.5711\", \"latitude\": \"-36.5177\", \"surface_temperature_celcius\": \"40\", \"confidence\": \"52\", \"Created_Time\": \"2019-05-24 22:41:39\", \"Sender_ID\": \"Producer03\"}\n",
      "Message published successfully. {\"longitude\": \"146.5413\", \"latitude\": \"-38.0148\", \"surface_temperature_celcius\": \"71\", \"confidence\": \"87\", \"Created_Time\": \"2019-05-24 22:42:06\", \"Sender_ID\": \"Producer03\"}\n",
      "Message published successfully. {\"longitude\": \"142.387\", \"latitude\": \"-35.6453\", \"surface_temperature_celcius\": \"69\", \"confidence\": \"91\", \"Created_Time\": \"2019-05-24 22:42:29\", \"Sender_ID\": \"Producer03\"}\n",
      "Message published successfully. {\"longitude\": \"142.2805\", \"latitude\": \"-36.4899\", \"surface_temperature_celcius\": \"73\", \"confidence\": \"93\", \"Created_Time\": \"2019-05-24 22:42:49\", \"Sender_ID\": \"Producer03\"}\n",
      "Message published successfully. {\"longitude\": \"144.2044\", \"latitude\": \"-38.0771\", \"surface_temperature_celcius\": \"38\", \"confidence\": \"52\", \"Created_Time\": \"2019-05-24 22:43:04\", \"Sender_ID\": \"Producer03\"}\n",
      "Message published successfully. {\"longitude\": \"142.1472\", \"latitude\": \"-36.9954\", \"surface_temperature_celcius\": \"55\", \"confidence\": \"81\", \"Created_Time\": \"2019-05-24 22:43:33\", \"Sender_ID\": \"Producer03\"}\n",
      "Message published successfully. {\"longitude\": \"147.207\", \"latitude\": \"-37.886\", \"surface_temperature_celcius\": \"28\", \"confidence\": \"50\", \"Created_Time\": \"2019-05-24 22:44:00\", \"Sender_ID\": \"Producer03\"}\n",
      "Message published successfully. {\"longitude\": \"142.0798\", \"latitude\": \"-36.9151\", \"surface_temperature_celcius\": \"50\", \"confidence\": \"77\", \"Created_Time\": \"2019-05-24 22:44:27\", \"Sender_ID\": \"Producer03\"}\n",
      "Message published successfully. {\"longitude\": \"142.5802\", \"latitude\": \"-36.8632\", \"surface_temperature_celcius\": \"60\", \"confidence\": \"60\", \"Created_Time\": \"2019-05-24 22:44:37\", \"Sender_ID\": \"Producer03\"}\n",
      "Message published successfully. {\"longitude\": \"142.5842\", \"latitude\": \"-37.8704\", \"surface_temperature_celcius\": \"48\", \"confidence\": \"74\", \"Created_Time\": \"2019-05-24 22:44:54\", \"Sender_ID\": \"Producer03\"}\n",
      "Message published successfully. {\"longitude\": \"143.1585\", \"latitude\": \"-37.4976\", \"surface_temperature_celcius\": \"48\", \"confidence\": \"74\", \"Created_Time\": \"2019-05-24 22:45:12\", \"Sender_ID\": \"Producer03\"}\n",
      "Message published successfully. {\"longitude\": \"143.6199\", \"latitude\": \"-37.9422\", \"surface_temperature_celcius\": \"39\", \"confidence\": \"53\", \"Created_Time\": \"2019-05-24 22:45:26\", \"Sender_ID\": \"Producer03\"}\n",
      "Message published successfully. {\"longitude\": \"148.097\", \"latitude\": \"-37.45\", \"surface_temperature_celcius\": \"37\", \"confidence\": \"70\", \"Created_Time\": \"2019-05-24 22:45:55\", \"Sender_ID\": \"Producer03\"}\n"
     ]
    },
    {
     "ename": "KeyboardInterrupt",
     "evalue": "",
     "output_type": "error",
     "traceback": [
      "\u001b[0;31m---------------------------------------------------------------------------\u001b[0m",
      "\u001b[0;31mKeyboardInterrupt\u001b[0m                         Traceback (most recent call last)",
      "\u001b[0;32m<ipython-input-5-8765fdec9046>\u001b[0m in \u001b[0;36m<module>\u001b[0;34m()\u001b[0m\n\u001b[1;32m     14\u001b[0m     \u001b[0mpublish_message\u001b[0m\u001b[0;34m(\u001b[0m\u001b[0mproducer01\u001b[0m\u001b[0;34m,\u001b[0m \u001b[0mtopic\u001b[0m\u001b[0;34m,\u001b[0m \u001b[0;34m'Producer03'\u001b[0m\u001b[0;34m,\u001b[0m \u001b[0mjson\u001b[0m\u001b[0;34m.\u001b[0m\u001b[0mdumps\u001b[0m\u001b[0;34m(\u001b[0m\u001b[0mdata\u001b[0m\u001b[0;34m)\u001b[0m\u001b[0;34m)\u001b[0m\u001b[0;34m\u001b[0m\u001b[0m\n\u001b[1;32m     15\u001b[0m     \u001b[0;31m# Sleep for 10-30 second\u001b[0m\u001b[0;34m\u001b[0m\u001b[0;34m\u001b[0m\u001b[0m\n\u001b[0;32m---> 16\u001b[0;31m     \u001b[0msleep\u001b[0m\u001b[0;34m(\u001b[0m\u001b[0mrandom\u001b[0m\u001b[0;34m.\u001b[0m\u001b[0mrandint\u001b[0m\u001b[0;34m(\u001b[0m\u001b[0;36m10\u001b[0m\u001b[0;34m,\u001b[0m\u001b[0;36m30\u001b[0m\u001b[0;34m)\u001b[0m\u001b[0;34m)\u001b[0m\u001b[0;34m\u001b[0m\u001b[0m\n\u001b[0m",
      "\u001b[0;31mKeyboardInterrupt\u001b[0m: "
     ]
    }
   ],
   "source": [
    "topic = 'Producer'\n",
    "print('Publishing records..')\n",
    "producer01 = connect_kafka_producer()\n",
    "data_list = read_data()\n",
    "\n",
    "while True:\n",
    "    # Generate random number to select a line for the stream\n",
    "    random_number = random.randint(0,len(data_list)-1)\n",
    "    data = data_list[random_number]\n",
    "    # Add sender id and time for record\n",
    "    data['Sender_ID'] = 'Producer03'\n",
    "    data['Created_Time'] = str(dt.datetime.now().strftime(\"%Y-%m-%d %H:%M:%S\"))\n",
    "    # Publish message\n",
    "    publish_message(producer01, topic, 'Producer03', json.dumps(data))\n",
    "    # Sleep for 10-30 second\n",
    "    sleep(random.randint(10,30))"
   ]
  },
  {
   "cell_type": "code",
   "execution_count": null,
   "metadata": {},
   "outputs": [],
   "source": []
  }
 ],
 "metadata": {
  "kernelspec": {
   "display_name": "Python 3",
   "language": "python",
   "name": "python3"
  },
  "language_info": {
   "codemirror_mode": {
    "name": "ipython",
    "version": 3
   },
   "file_extension": ".py",
   "mimetype": "text/x-python",
   "name": "python",
   "nbconvert_exporter": "python",
   "pygments_lexer": "ipython3",
   "version": "3.7.3"
  },
  "varInspector": {
   "cols": {
    "lenName": 16,
    "lenType": 16,
    "lenVar": 40
   },
   "kernels_config": {
    "python": {
     "delete_cmd_postfix": "",
     "delete_cmd_prefix": "del ",
     "library": "var_list.py",
     "varRefreshCmd": "print(var_dic_list())"
    },
    "r": {
     "delete_cmd_postfix": ") ",
     "delete_cmd_prefix": "rm(",
     "library": "var_list.r",
     "varRefreshCmd": "cat(var_dic_list()) "
    }
   },
   "types_to_exclude": [
    "module",
    "function",
    "builtin_function_or_method",
    "instance",
    "_Feature"
   ],
   "window_display": false
  }
 },
 "nbformat": 4,
 "nbformat_minor": 2
}
