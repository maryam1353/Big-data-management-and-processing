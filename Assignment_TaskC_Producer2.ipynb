{
 "cells": [
  {
   "cell_type": "markdown",
   "metadata": {},
   "source": [
    "## Producer 2\n",
    "\n",
    "Producer 2 produces the data from 'hotspot_AQUA_streaming.csv' and sends it to the Apache Spark Stream for further processing. Producer 2 is a Kafka Producer and becomes a part of the Spark Stream through kafka. \n",
    "\n",
    "The csv is read and each line is processes as a list of dictionaries. Each dictionary represents a line from the file. The dictionary has the key-value pairs as corresponding to the header and respective value in the csv file. \n",
    "\n",
    "A random entry from the list is chosen to be publised as a message to the stream every 10-30 seconds and is processed into a byte stream with the topic name as 'Producer'."
   ]
  },
  {
   "cell_type": "code",
   "execution_count": 1,
   "metadata": {},
   "outputs": [],
   "source": [
    "# import statements\n",
    "from time import sleep\n",
    "from json import dumps\n",
    "from kafka import KafkaProducer\n",
    "import random\n",
    "import datetime as dt\n",
    "import json"
   ]
  },
  {
   "cell_type": "markdown",
   "metadata": {},
   "source": [
    "### Publish Message\n",
    "Method used for publishing the message to the spark stream."
   ]
  },
  {
   "cell_type": "code",
   "execution_count": 2,
   "metadata": {},
   "outputs": [],
   "source": [
    "def publish_message(producer_instance, topic_name, key, data):\n",
    "    try:\n",
    "        # Converts the values and keys to bytes for processing.\n",
    "        value_bytes = bytes(data, encoding='utf-8')\n",
    "        key_bytes = bytes(key, encoding='utf-8')\n",
    "        # Published the message for the given instance.\n",
    "        producer_instance.send(topic_name, key=key_bytes, value=value_bytes)\n",
    "        print('Message published successfully. ' + data)\n",
    "    except Exception as ex:\n",
    "        print('Exception in publishing message.')\n",
    "        print(str(ex))"
   ]
  },
  {
   "cell_type": "markdown",
   "metadata": {},
   "source": [
    "### Connect Kafka Producer\n",
    "Method used for creating a kakfa producer."
   ]
  },
  {
   "cell_type": "code",
   "execution_count": 3,
   "metadata": {},
   "outputs": [],
   "source": [
    "def connect_kafka_producer():\n",
    "    _producer = None\n",
    "    try:\n",
    "        _producer = KafkaProducer(bootstrap_servers=['127.0.0.1:9092'],\n",
    "                                  api_version=(0, 10))\n",
    "    except Exception as ex:\n",
    "        print('Exception while connecting Kafka.')\n",
    "        print(str(ex))\n",
    "    finally:\n",
    "        return _producer"
   ]
  },
  {
   "cell_type": "markdown",
   "metadata": {},
   "source": [
    "### Read Data"
   ]
  },
  {
   "cell_type": "code",
   "execution_count": 4,
   "metadata": {},
   "outputs": [],
   "source": [
    "def read_data():\n",
    "    data_list = []\n",
    "    # Read file\n",
    "    file = open(\"hotspot_AQUA_streaming.csv\",\"r\")\n",
    "    index = 0\n",
    "    for line in file:\n",
    "        # Iterate over lines of file\n",
    "        file_list = line.split(',')\n",
    "        # Get headers\n",
    "        if index == 0:\n",
    "            headers = [item.strip() for item in file_list]\n",
    "            index += 1\n",
    "            continue\n",
    "        # Add the line to a dictionary according to the headers\n",
    "        else:\n",
    "            jsonElem = {}\n",
    "            jsonElem[headers[0]] = file_list[0]\n",
    "            jsonElem[headers[1]] = file_list[1]\n",
    "            jsonElem[headers[2]] = file_list[2]\n",
    "            jsonElem[headers[3]] = file_list[3].strip()\n",
    "        data_list.append(jsonElem)\n",
    "                               \n",
    "    return data_list"
   ]
  },
  {
   "cell_type": "markdown",
   "metadata": {},
   "source": [
    "### Select record and publish message"
   ]
  },
  {
   "cell_type": "code",
   "execution_count": 5,
   "metadata": {},
   "outputs": [
    {
     "name": "stdout",
     "output_type": "stream",
     "text": [
      "Publishing records..\n",
      "Message published successfully. {\"confidence\": \"77\", \"Sender_ID\": \"Producer02\", \"latitude\": \"-37.586\", \"longitude\": \"148.038\", \"Created_Time\": \"2019-05-24 21:37:34\", \"surface_temperature_celcius\": \"47\"}\n",
      "Message published successfully. {\"confidence\": \"69\", \"Sender_ID\": \"Producer02\", \"latitude\": \"-38.0907\", \"longitude\": \"143.2362\", \"Created_Time\": \"2019-05-24 21:37:44\", \"surface_temperature_celcius\": \"45\"}\n",
      "Message published successfully. {\"confidence\": \"80\", \"Sender_ID\": \"Producer02\", \"latitude\": \"-36.102\", \"longitude\": \"146.2785\", \"Created_Time\": \"2019-05-24 21:38:14\", \"surface_temperature_celcius\": \"53\"}\n",
      "Message published successfully. {\"confidence\": \"73\", \"Sender_ID\": \"Producer02\", \"latitude\": \"-38.0261\", \"longitude\": \"143.5208\", \"Created_Time\": \"2019-05-24 21:38:29\", \"surface_temperature_celcius\": \"47\"}\n",
      "Message published successfully. {\"confidence\": \"71\", \"Sender_ID\": \"Producer02\", \"latitude\": \"-36.053\", \"longitude\": \"145.8892\", \"Created_Time\": \"2019-05-24 21:38:54\", \"surface_temperature_celcius\": \"55\"}\n",
      "Message published successfully. {\"confidence\": \"76\", \"Sender_ID\": \"Producer02\", \"latitude\": \"-35.7058\", \"longitude\": \"143.1971\", \"Created_Time\": \"2019-05-24 21:39:04\", \"surface_temperature_celcius\": \"38\"}\n",
      "Message published successfully. {\"confidence\": \"89\", \"Sender_ID\": \"Producer02\", \"latitude\": \"-34.9023\", \"longitude\": \"142.0557\", \"Created_Time\": \"2019-05-24 21:39:21\", \"surface_temperature_celcius\": \"65\"}\n",
      "Message published successfully. {\"confidence\": \"78\", \"Sender_ID\": \"Producer02\", \"latitude\": \"-37.3226\", \"longitude\": \"143.5442\", \"Created_Time\": \"2019-05-24 21:39:40\", \"surface_temperature_celcius\": \"51\"}\n",
      "Message published successfully. {\"confidence\": \"73\", \"Sender_ID\": \"Producer02\", \"latitude\": \"-36.8702\", \"longitude\": \"144.0381\", \"Created_Time\": \"2019-05-24 21:40:01\", \"surface_temperature_celcius\": \"47\"}\n",
      "Message published successfully. {\"confidence\": \"72\", \"Sender_ID\": \"Producer02\", \"latitude\": \"-36.8932\", \"longitude\": \"142.3395\", \"Created_Time\": \"2019-05-24 21:40:27\", \"surface_temperature_celcius\": \"46\"}\n",
      "Message published successfully. {\"confidence\": \"100\", \"Sender_ID\": \"Producer02\", \"latitude\": \"-37.406\", \"longitude\": \"148.123\", \"Created_Time\": \"2019-05-24 21:40:37\", \"surface_temperature_celcius\": \"88\"}\n",
      "Message published successfully. {\"confidence\": \"69\", \"Sender_ID\": \"Producer02\", \"latitude\": \"-38.4031\", \"longitude\": \"147.0701\", \"Created_Time\": \"2019-05-24 21:41:02\", \"surface_temperature_celcius\": \"45\"}\n",
      "Message published successfully. {\"confidence\": \"65\", \"Sender_ID\": \"Producer02\", \"latitude\": \"-36.7871\", \"longitude\": \"146.9604\", \"Created_Time\": \"2019-05-24 21:41:21\", \"surface_temperature_celcius\": \"42\"}\n",
      "Message published successfully. {\"confidence\": \"76\", \"Sender_ID\": \"Producer02\", \"latitude\": \"-36.6407\", \"longitude\": \"144.2957\", \"Created_Time\": \"2019-05-24 21:41:50\", \"surface_temperature_celcius\": \"50\"}\n",
      "Message published successfully. {\"confidence\": \"72\", \"Sender_ID\": \"Producer02\", \"latitude\": \"-36.0694\", \"longitude\": \"141.5717\", \"Created_Time\": \"2019-05-24 21:42:13\", \"surface_temperature_celcius\": \"54\"}\n",
      "Message published successfully. {\"confidence\": \"66\", \"Sender_ID\": \"Producer02\", \"latitude\": \"-34.9194\", \"longitude\": \"140.9678\", \"Created_Time\": \"2019-05-24 21:42:43\", \"surface_temperature_celcius\": \"43\"}\n",
      "Message published successfully. {\"confidence\": \"64\", \"Sender_ID\": \"Producer02\", \"latitude\": \"-36.3414\", \"longitude\": \"141.0295\", \"Created_Time\": \"2019-05-24 21:43:04\", \"surface_temperature_celcius\": \"42\"}\n",
      "Message published successfully. {\"confidence\": \"74\", \"Sender_ID\": \"Producer02\", \"latitude\": \"-36.4074\", \"longitude\": \"145.9085\", \"Created_Time\": \"2019-05-24 21:43:32\", \"surface_temperature_celcius\": \"48\"}\n",
      "Message published successfully. {\"confidence\": \"98\", \"Sender_ID\": \"Producer02\", \"latitude\": \"-36.9329\", \"longitude\": \"143.7796\", \"Created_Time\": \"2019-05-24 21:43:57\", \"surface_temperature_celcius\": \"82\"}\n",
      "Message published successfully. {\"confidence\": \"79\", \"Sender_ID\": \"Producer02\", \"latitude\": \"-37.4024\", \"longitude\": \"145.5918\", \"Created_Time\": \"2019-05-24 21:44:24\", \"surface_temperature_celcius\": \"52\"}\n",
      "Message published successfully. {\"confidence\": \"54\", \"Sender_ID\": \"Producer02\", \"latitude\": \"-34.848\", \"longitude\": \"141.5002\", \"Created_Time\": \"2019-05-24 21:44:45\", \"surface_temperature_celcius\": \"41\"}\n",
      "Message published successfully. {\"confidence\": \"65\", \"Sender_ID\": \"Producer02\", \"latitude\": \"-37.441\", \"longitude\": \"142.9966\", \"Created_Time\": \"2019-05-24 21:45:05\", \"surface_temperature_celcius\": \"42\"}\n",
      "Message published successfully. {\"confidence\": \"71\", \"Sender_ID\": \"Producer02\", \"latitude\": \"-37.471\", \"longitude\": \"148.091\", \"Created_Time\": \"2019-05-24 21:45:24\", \"surface_temperature_celcius\": \"50\"}\n",
      "Message published successfully. {\"confidence\": \"53\", \"Sender_ID\": \"Producer02\", \"latitude\": \"-36.2761\", \"longitude\": \"145.8256\", \"Created_Time\": \"2019-05-24 21:45:42\", \"surface_temperature_celcius\": \"43\"}\n",
      "Message published successfully. {\"confidence\": \"86\", \"Sender_ID\": \"Producer02\", \"latitude\": \"-37.996\", \"longitude\": \"146.3535\", \"Created_Time\": \"2019-05-24 21:45:54\", \"surface_temperature_celcius\": \"41\"}\n",
      "Message published successfully. {\"confidence\": \"70\", \"Sender_ID\": \"Producer02\", \"latitude\": \"-36.7783\", \"longitude\": \"146.6449\", \"Created_Time\": \"2019-05-24 21:46:14\", \"surface_temperature_celcius\": \"56\"}\n",
      "Message published successfully. {\"confidence\": \"100\", \"Sender_ID\": \"Producer02\", \"latitude\": \"-36.104\", \"longitude\": \"141.772\", \"Created_Time\": \"2019-05-24 21:46:33\", \"surface_temperature_celcius\": \"113\"}\n",
      "Message published successfully. {\"confidence\": \"88\", \"Sender_ID\": \"Producer02\", \"latitude\": \"-36.1598\", \"longitude\": \"141.8841\", \"Created_Time\": \"2019-05-24 21:46:51\", \"surface_temperature_celcius\": \"64\"}\n",
      "Message published successfully. {\"confidence\": \"73\", \"Sender_ID\": \"Producer02\", \"latitude\": \"-36.6688\", \"longitude\": \"145.2635\", \"Created_Time\": \"2019-05-24 21:47:16\", \"surface_temperature_celcius\": \"47\"}\n",
      "Message published successfully. {\"confidence\": \"53\", \"Sender_ID\": \"Producer02\", \"latitude\": \"-36.1439\", \"longitude\": \"145.832\", \"Created_Time\": \"2019-05-24 21:47:38\", \"surface_temperature_celcius\": \"50\"}\n",
      "Message published successfully. {\"confidence\": \"100\", \"Sender_ID\": \"Producer02\", \"latitude\": \"-38.5123\", \"longitude\": \"146.4007\", \"Created_Time\": \"2019-05-24 21:47:48\", \"surface_temperature_celcius\": \"89\"}\n",
      "Message published successfully. {\"confidence\": \"79\", \"Sender_ID\": \"Producer02\", \"latitude\": \"-36.1198\", \"longitude\": \"145.6369\", \"Created_Time\": \"2019-05-24 21:48:02\", \"surface_temperature_celcius\": \"52\"}\n",
      "Message published successfully. {\"confidence\": \"69\", \"Sender_ID\": \"Producer02\", \"latitude\": \"-36.0411\", \"longitude\": \"141.7071\", \"Created_Time\": \"2019-05-24 21:48:32\", \"surface_temperature_celcius\": \"44\"}\n",
      "Message published successfully. {\"confidence\": \"97\", \"Sender_ID\": \"Producer02\", \"latitude\": \"-36.4211\", \"longitude\": \"141.6875\", \"Created_Time\": \"2019-05-24 21:48:58\", \"surface_temperature_celcius\": \"81\"}\n",
      "Message published successfully. {\"confidence\": \"79\", \"Sender_ID\": \"Producer02\", \"latitude\": \"-36.8691\", \"longitude\": \"142.7205\", \"Created_Time\": \"2019-05-24 21:49:21\", \"surface_temperature_celcius\": \"53\"}\n",
      "Message published successfully. {\"confidence\": \"73\", \"Sender_ID\": \"Producer02\", \"latitude\": \"-36.908\", \"longitude\": \"141.0584\", \"Created_Time\": \"2019-05-24 21:49:50\", \"surface_temperature_celcius\": \"48\"}\n",
      "Message published successfully. {\"confidence\": \"84\", \"Sender_ID\": \"Producer02\", \"latitude\": \"-37.3405\", \"longitude\": \"141.1927\", \"Created_Time\": \"2019-05-24 21:50:17\", \"surface_temperature_celcius\": \"58\"}\n",
      "Message published successfully. {\"confidence\": \"83\", \"Sender_ID\": \"Producer02\", \"latitude\": \"-37.803\", \"longitude\": \"142.3151\", \"Created_Time\": \"2019-05-24 21:50:37\", \"surface_temperature_celcius\": \"78\"}\n",
      "Message published successfully. {\"confidence\": \"78\", \"Sender_ID\": \"Producer02\", \"latitude\": \"-36.4005\", \"longitude\": \"144.0756\", \"Created_Time\": \"2019-05-24 21:50:57\", \"surface_temperature_celcius\": \"51\"}\n",
      "Message published successfully. {\"confidence\": \"70\", \"Sender_ID\": \"Producer02\", \"latitude\": \"-36.7445\", \"longitude\": \"143.3254\", \"Created_Time\": \"2019-05-24 21:51:17\", \"surface_temperature_celcius\": \"45\"}\n"
     ]
    },
    {
     "name": "stdout",
     "output_type": "stream",
     "text": [
      "Message published successfully. {\"confidence\": \"98\", \"Sender_ID\": \"Producer02\", \"latitude\": \"-34.3526\", \"longitude\": \"141.6458\", \"Created_Time\": \"2019-05-24 21:51:27\", \"surface_temperature_celcius\": \"82\"}\n",
      "Message published successfully. {\"confidence\": \"64\", \"Sender_ID\": \"Producer02\", \"latitude\": \"-38.0089\", \"longitude\": \"143.8976\", \"Created_Time\": \"2019-05-24 21:51:45\", \"surface_temperature_celcius\": \"45\"}\n",
      "Message published successfully. {\"confidence\": \"69\", \"Sender_ID\": \"Producer02\", \"latitude\": \"-36.2549\", \"longitude\": \"141.9908\", \"Created_Time\": \"2019-05-24 21:52:11\", \"surface_temperature_celcius\": \"44\"}\n",
      "Message published successfully. {\"confidence\": \"74\", \"Sender_ID\": \"Producer02\", \"latitude\": \"-36.4074\", \"longitude\": \"145.9085\", \"Created_Time\": \"2019-05-24 21:52:35\", \"surface_temperature_celcius\": \"48\"}\n",
      "Message published successfully. {\"confidence\": \"100\", \"Sender_ID\": \"Producer02\", \"latitude\": \"-36.1156\", \"longitude\": \"141.6664\", \"Created_Time\": \"2019-05-24 21:52:59\", \"surface_temperature_celcius\": \"62\"}\n",
      "Message published successfully. {\"confidence\": \"75\", \"Sender_ID\": \"Producer02\", \"latitude\": \"-38.1031\", \"longitude\": \"142.4797\", \"Created_Time\": \"2019-05-24 21:53:16\", \"surface_temperature_celcius\": \"48\"}\n",
      "Message published successfully. {\"confidence\": \"100\", \"Sender_ID\": \"Producer02\", \"latitude\": \"-37.9071\", \"longitude\": \"143.538\", \"Created_Time\": \"2019-05-24 21:53:38\", \"surface_temperature_celcius\": \"88\"}\n",
      "Message published successfully. {\"confidence\": \"82\", \"Sender_ID\": \"Producer02\", \"latitude\": \"-36.8786\", \"longitude\": \"142.6908\", \"Created_Time\": \"2019-05-24 21:53:59\", \"surface_temperature_celcius\": \"56\"}\n",
      "Message published successfully. {\"confidence\": \"82\", \"Sender_ID\": \"Producer02\", \"latitude\": \"-37.79\", \"longitude\": \"143.3801\", \"Created_Time\": \"2019-05-24 21:54:17\", \"surface_temperature_celcius\": \"62\"}\n",
      "Message published successfully. {\"confidence\": \"78\", \"Sender_ID\": \"Producer02\", \"latitude\": \"-34.2576\", \"longitude\": \"141.7374\", \"Created_Time\": \"2019-05-24 21:54:35\", \"surface_temperature_celcius\": \"52\"}\n",
      "Message published successfully. {\"confidence\": \"95\", \"Sender_ID\": \"Producer02\", \"latitude\": \"-37.8774\", \"longitude\": \"145.8213\", \"Created_Time\": \"2019-05-24 21:54:51\", \"surface_temperature_celcius\": \"77\"}\n",
      "Message published successfully. {\"confidence\": \"81\", \"Sender_ID\": \"Producer02\", \"latitude\": \"-35.124\", \"longitude\": \"142.0757\", \"Created_Time\": \"2019-05-24 21:55:09\", \"surface_temperature_celcius\": \"61\"}\n",
      "Message published successfully. {\"confidence\": \"79\", \"Sender_ID\": \"Producer02\", \"latitude\": \"-36.4277\", \"longitude\": \"141.3047\", \"Created_Time\": \"2019-05-24 21:55:24\", \"surface_temperature_celcius\": \"52\"}\n",
      "Message published successfully. {\"confidence\": \"67\", \"Sender_ID\": \"Producer02\", \"latitude\": \"-38.1758\", \"longitude\": \"144.489\", \"Created_Time\": \"2019-05-24 21:55:44\", \"surface_temperature_celcius\": \"50\"}\n",
      "Message published successfully. {\"confidence\": \"66\", \"Sender_ID\": \"Producer02\", \"latitude\": \"-36.9396\", \"longitude\": \"141.9303\", \"Created_Time\": \"2019-05-24 21:56:09\", \"surface_temperature_celcius\": \"45\"}\n",
      "Message published successfully. {\"confidence\": \"94\", \"Sender_ID\": \"Producer02\", \"latitude\": \"-36.092\", \"longitude\": \"141.7306\", \"Created_Time\": \"2019-05-24 21:56:21\", \"surface_temperature_celcius\": \"75\"}\n",
      "Message published successfully. {\"confidence\": \"86\", \"Sender_ID\": \"Producer02\", \"latitude\": \"-35.1476\", \"longitude\": \"141.819\", \"Created_Time\": \"2019-05-24 21:56:43\", \"surface_temperature_celcius\": \"60\"}\n",
      "Message published successfully. {\"confidence\": \"100\", \"Sender_ID\": \"Producer02\", \"latitude\": \"-37.7269\", \"longitude\": \"143.0087\", \"Created_Time\": \"2019-05-24 21:56:58\", \"surface_temperature_celcius\": \"114\"}\n",
      "Message published successfully. {\"confidence\": \"86\", \"Sender_ID\": \"Producer02\", \"latitude\": \"-36.8142\", \"longitude\": \"142.8947\", \"Created_Time\": \"2019-05-24 21:57:10\", \"surface_temperature_celcius\": \"60\"}\n",
      "Message published successfully. {\"confidence\": \"79\", \"Sender_ID\": \"Producer02\", \"latitude\": \"-36.4277\", \"longitude\": \"141.3047\", \"Created_Time\": \"2019-05-24 21:57:39\", \"surface_temperature_celcius\": \"52\"}\n",
      "Message published successfully. {\"confidence\": \"65\", \"Sender_ID\": \"Producer02\", \"latitude\": \"-36.3884\", \"longitude\": \"141.0322\", \"Created_Time\": \"2019-05-24 21:58:04\", \"surface_temperature_celcius\": \"42\"}\n",
      "Message published successfully. {\"confidence\": \"84\", \"Sender_ID\": \"Producer02\", \"latitude\": \"-38.1403\", \"longitude\": \"144.2187\", \"Created_Time\": \"2019-05-24 21:58:28\", \"surface_temperature_celcius\": \"58\"}\n",
      "Message published successfully. {\"confidence\": \"90\", \"Sender_ID\": \"Producer02\", \"latitude\": \"-36.6828\", \"longitude\": \"144.784\", \"Created_Time\": \"2019-05-24 21:58:48\", \"surface_temperature_celcius\": \"66\"}\n",
      "Message published successfully. {\"confidence\": \"81\", \"Sender_ID\": \"Producer02\", \"latitude\": \"-37.527\", \"longitude\": \"143.4752\", \"Created_Time\": \"2019-05-24 21:59:05\", \"surface_temperature_celcius\": \"39\"}\n",
      "Message published successfully. {\"confidence\": \"91\", \"Sender_ID\": \"Producer02\", \"latitude\": \"-36.3961\", \"longitude\": \"140.9781\", \"Created_Time\": \"2019-05-24 21:59:30\", \"surface_temperature_celcius\": \"69\"}\n",
      "Message published successfully. {\"confidence\": \"84\", \"Sender_ID\": \"Producer02\", \"latitude\": \"-37.978\", \"longitude\": \"145.623\", \"Created_Time\": \"2019-05-24 21:59:51\", \"surface_temperature_celcius\": \"59\"}\n",
      "Message published successfully. {\"confidence\": \"76\", \"Sender_ID\": \"Producer02\", \"latitude\": \"-37.4108\", \"longitude\": \"147.0196\", \"Created_Time\": \"2019-05-24 22:00:21\", \"surface_temperature_celcius\": \"50\"}\n",
      "Message published successfully. {\"confidence\": \"58\", \"Sender_ID\": \"Producer02\", \"latitude\": \"-37.7836\", \"longitude\": \"143.9688\", \"Created_Time\": \"2019-05-24 22:00:45\", \"surface_temperature_celcius\": \"40\"}\n",
      "Message published successfully. {\"confidence\": \"100\", \"Sender_ID\": \"Producer02\", \"latitude\": \"-36.5865\", \"longitude\": \"145.2081\", \"Created_Time\": \"2019-05-24 22:01:12\", \"surface_temperature_celcius\": \"111\"}\n",
      "Message published successfully. {\"confidence\": \"83\", \"Sender_ID\": \"Producer02\", \"latitude\": \"-34.8368\", \"longitude\": \"141.5197\", \"Created_Time\": \"2019-05-24 22:01:27\", \"surface_temperature_celcius\": \"56\"}\n",
      "Message published successfully. {\"confidence\": \"60\", \"Sender_ID\": \"Producer02\", \"latitude\": \"-36.2685\", \"longitude\": \"141.0912\", \"Created_Time\": \"2019-05-24 22:01:50\", \"surface_temperature_celcius\": \"40\"}\n",
      "Message published successfully. {\"confidence\": \"79\", \"Sender_ID\": \"Producer02\", \"latitude\": \"-37.639\", \"longitude\": \"142.0648\", \"Created_Time\": \"2019-05-24 22:02:17\", \"surface_temperature_celcius\": \"52\"}\n",
      "Message published successfully. {\"confidence\": \"71\", \"Sender_ID\": \"Producer02\", \"latitude\": \"-36.6248\", \"longitude\": \"142.2042\", \"Created_Time\": \"2019-05-24 22:02:33\", \"surface_temperature_celcius\": \"46\"}\n",
      "Message published successfully. {\"confidence\": \"90\", \"Sender_ID\": \"Producer02\", \"latitude\": \"-35.4033\", \"longitude\": \"143.267\", \"Created_Time\": \"2019-05-24 22:02:47\", \"surface_temperature_celcius\": \"67\"}\n",
      "Message published successfully. {\"confidence\": \"74\", \"Sender_ID\": \"Producer02\", \"latitude\": \"-36.4547\", \"longitude\": \"143.145\", \"Created_Time\": \"2019-05-24 22:03:04\", \"surface_temperature_celcius\": \"48\"}\n",
      "Message published successfully. {\"confidence\": \"88\", \"Sender_ID\": \"Producer02\", \"latitude\": \"-37.7021\", \"longitude\": \"145.5536\", \"Created_Time\": \"2019-05-24 22:03:28\", \"surface_temperature_celcius\": \"42\"}\n",
      "Message published successfully. {\"confidence\": \"62\", \"Sender_ID\": \"Producer02\", \"latitude\": \"-37.9796\", \"longitude\": \"146.8024\", \"Created_Time\": \"2019-05-24 22:03:38\", \"surface_temperature_celcius\": \"41\"}\n",
      "Message published successfully. {\"confidence\": \"59\", \"Sender_ID\": \"Producer02\", \"latitude\": \"-37.1228\", \"longitude\": \"141.7389\", \"Created_Time\": \"2019-05-24 22:03:50\", \"surface_temperature_celcius\": \"41\"}\n",
      "Message published successfully. {\"confidence\": \"82\", \"Sender_ID\": \"Producer02\", \"latitude\": \"-35.889\", \"longitude\": \"145.614\", \"Created_Time\": \"2019-05-24 22:04:07\", \"surface_temperature_celcius\": \"56\"}\n",
      "Message published successfully. {\"confidence\": \"68\", \"Sender_ID\": \"Producer02\", \"latitude\": \"-37.9309\", \"longitude\": \"143.381\", \"Created_Time\": \"2019-05-24 22:04:29\", \"surface_temperature_celcius\": \"44\"}\n",
      "Message published successfully. {\"confidence\": \"54\", \"Sender_ID\": \"Producer02\", \"latitude\": \"-36.3909\", \"longitude\": \"141.1843\", \"Created_Time\": \"2019-05-24 22:04:42\", \"surface_temperature_celcius\": \"39\"}\n"
     ]
    },
    {
     "name": "stdout",
     "output_type": "stream",
     "text": [
      "Message published successfully. {\"confidence\": \"81\", \"Sender_ID\": \"Producer02\", \"latitude\": \"-37.8076\", \"longitude\": \"142.1698\", \"Created_Time\": \"2019-05-24 22:04:58\", \"surface_temperature_celcius\": \"54\"}\n",
      "Message published successfully. {\"confidence\": \"60\", \"Sender_ID\": \"Producer02\", \"latitude\": \"-36.4195\", \"longitude\": \"141.2093\", \"Created_Time\": \"2019-05-24 22:05:09\", \"surface_temperature_celcius\": \"42\"}\n",
      "Message published successfully. {\"confidence\": \"89\", \"Sender_ID\": \"Producer02\", \"latitude\": \"-37.6997\", \"longitude\": \"145.5519\", \"Created_Time\": \"2019-05-24 22:05:36\", \"surface_temperature_celcius\": \"64\"}\n",
      "Message published successfully. {\"confidence\": \"88\", \"Sender_ID\": \"Producer02\", \"latitude\": \"-37.469\", \"longitude\": \"148.125\", \"Created_Time\": \"2019-05-24 22:05:48\", \"surface_temperature_celcius\": \"58\"}\n",
      "Message published successfully. {\"confidence\": \"53\", \"Sender_ID\": \"Producer02\", \"latitude\": \"-34.9959\", \"longitude\": \"141.8635\", \"Created_Time\": \"2019-05-24 22:05:59\", \"surface_temperature_celcius\": \"49\"}\n",
      "Message published successfully. {\"confidence\": \"68\", \"Sender_ID\": \"Producer02\", \"latitude\": \"-36.9875\", \"longitude\": \"141.9298\", \"Created_Time\": \"2019-05-24 22:06:23\", \"surface_temperature_celcius\": \"44\"}\n",
      "Message published successfully. {\"confidence\": \"84\", \"Sender_ID\": \"Producer02\", \"latitude\": \"-37.8774\", \"longitude\": \"142.5932\", \"Created_Time\": \"2019-05-24 22:06:40\", \"surface_temperature_celcius\": \"58\"}\n",
      "Message published successfully. {\"confidence\": \"73\", \"Sender_ID\": \"Producer02\", \"latitude\": \"-36.8383\", \"longitude\": \"143.9358\", \"Created_Time\": \"2019-05-24 22:06:54\", \"surface_temperature_celcius\": \"47\"}\n",
      "Message published successfully. {\"confidence\": \"74\", \"Sender_ID\": \"Producer02\", \"latitude\": \"-36.404\", \"longitude\": \"142.5467\", \"Created_Time\": \"2019-05-24 22:07:11\", \"surface_temperature_celcius\": \"48\"}\n",
      "Message published successfully. {\"confidence\": \"87\", \"Sender_ID\": \"Producer02\", \"latitude\": \"-36.3332\", \"longitude\": \"145.8594\", \"Created_Time\": \"2019-05-24 22:07:26\", \"surface_temperature_celcius\": \"90\"}\n",
      "Message published successfully. {\"confidence\": \"80\", \"Sender_ID\": \"Producer02\", \"latitude\": \"-37.2341\", \"longitude\": \"149.1736\", \"Created_Time\": \"2019-05-24 22:07:40\", \"surface_temperature_celcius\": \"53\"}\n",
      "Message published successfully. {\"confidence\": \"87\", \"Sender_ID\": \"Producer02\", \"latitude\": \"-36.9116\", \"longitude\": \"142.0732\", \"Created_Time\": \"2019-05-24 22:08:10\", \"surface_temperature_celcius\": \"62\"}\n",
      "Message published successfully. {\"confidence\": \"68\", \"Sender_ID\": \"Producer02\", \"latitude\": \"-36.0436\", \"longitude\": \"145.7964\", \"Created_Time\": \"2019-05-24 22:08:29\", \"surface_temperature_celcius\": \"44\"}\n",
      "Message published successfully. {\"confidence\": \"97\", \"Sender_ID\": \"Producer02\", \"latitude\": \"-37.6572\", \"longitude\": \"142.0703\", \"Created_Time\": \"2019-05-24 22:08:49\", \"surface_temperature_celcius\": \"80\"}\n",
      "Message published successfully. {\"confidence\": \"81\", \"Sender_ID\": \"Producer02\", \"latitude\": \"-36.9954\", \"longitude\": \"142.1472\", \"Created_Time\": \"2019-05-24 22:09:15\", \"surface_temperature_celcius\": \"55\"}\n",
      "Message published successfully. {\"confidence\": \"96\", \"Sender_ID\": \"Producer02\", \"latitude\": \"-37.8429\", \"longitude\": \"147.2691\", \"Created_Time\": \"2019-05-24 22:09:45\", \"surface_temperature_celcius\": \"78\"}\n",
      "Message published successfully. {\"confidence\": \"94\", \"Sender_ID\": \"Producer02\", \"latitude\": \"-36.4179\", \"longitude\": \"144.2924\", \"Created_Time\": \"2019-05-24 22:09:56\", \"surface_temperature_celcius\": \"75\"}\n",
      "Message published successfully. {\"confidence\": \"70\", \"Sender_ID\": \"Producer02\", \"latitude\": \"-36.7536\", \"longitude\": \"141.6092\", \"Created_Time\": \"2019-05-24 22:10:15\", \"surface_temperature_celcius\": \"45\"}\n",
      "Message published successfully. {\"confidence\": \"52\", \"Sender_ID\": \"Producer02\", \"latitude\": \"-37.7851\", \"longitude\": \"141.4593\", \"Created_Time\": \"2019-05-24 22:10:37\", \"surface_temperature_celcius\": \"38\"}\n",
      "Message published successfully. {\"confidence\": \"68\", \"Sender_ID\": \"Producer02\", \"latitude\": \"-35.2068\", \"longitude\": \"143.2912\", \"Created_Time\": \"2019-05-24 22:10:49\", \"surface_temperature_celcius\": \"44\"}\n",
      "Message published successfully. {\"confidence\": \"78\", \"Sender_ID\": \"Producer02\", \"latitude\": \"-37.7074\", \"longitude\": \"147.5849\", \"Created_Time\": \"2019-05-24 22:11:07\", \"surface_temperature_celcius\": \"55\"}\n",
      "Message published successfully. {\"confidence\": \"60\", \"Sender_ID\": \"Producer02\", \"latitude\": \"-37.4385\", \"longitude\": \"143.6244\", \"Created_Time\": \"2019-05-24 22:11:35\", \"surface_temperature_celcius\": \"44\"}\n",
      "Message published successfully. {\"confidence\": \"67\", \"Sender_ID\": \"Producer02\", \"latitude\": \"-37.8011\", \"longitude\": \"144.7343\", \"Created_Time\": \"2019-05-24 22:11:54\", \"surface_temperature_celcius\": \"44\"}\n",
      "Message published successfully. {\"confidence\": \"58\", \"Sender_ID\": \"Producer02\", \"latitude\": \"-37.379\", \"longitude\": \"148.126\", \"Created_Time\": \"2019-05-24 22:12:10\", \"surface_temperature_celcius\": \"82\"}\n",
      "Message published successfully. {\"confidence\": \"67\", \"Sender_ID\": \"Producer02\", \"latitude\": \"-37.4754\", \"longitude\": \"148.161\", \"Created_Time\": \"2019-05-24 22:12:39\", \"surface_temperature_celcius\": \"43\"}\n",
      "Message published successfully. {\"confidence\": \"56\", \"Sender_ID\": \"Producer02\", \"latitude\": \"-38.0226\", \"longitude\": \"143.6739\", \"Created_Time\": \"2019-05-24 22:12:56\", \"surface_temperature_celcius\": \"39\"}\n",
      "Message published successfully. {\"confidence\": \"85\", \"Sender_ID\": \"Producer02\", \"latitude\": \"-36.3984\", \"longitude\": \"144.0271\", \"Created_Time\": \"2019-05-24 22:13:17\", \"surface_temperature_celcius\": \"60\"}\n",
      "Message published successfully. {\"confidence\": \"81\", \"Sender_ID\": \"Producer02\", \"latitude\": \"-36.3488\", \"longitude\": \"141.148\", \"Created_Time\": \"2019-05-24 22:13:47\", \"surface_temperature_celcius\": \"54\"}\n",
      "Message published successfully. {\"confidence\": \"82\", \"Sender_ID\": \"Producer02\", \"latitude\": \"-36.4956\", \"longitude\": \"143.7732\", \"Created_Time\": \"2019-05-24 22:14:11\", \"surface_temperature_celcius\": \"56\"}\n",
      "Message published successfully. {\"confidence\": \"77\", \"Sender_ID\": \"Producer02\", \"latitude\": \"-35.2601\", \"longitude\": \"143.1931\", \"Created_Time\": \"2019-05-24 22:14:36\", \"surface_temperature_celcius\": \"50\"}\n",
      "Message published successfully. {\"confidence\": \"87\", \"Sender_ID\": \"Producer02\", \"latitude\": \"-37.621\", \"longitude\": \"143.447\", \"Created_Time\": \"2019-05-24 22:14:54\", \"surface_temperature_celcius\": \"61\"}\n",
      "Message published successfully. {\"confidence\": \"64\", \"Sender_ID\": \"Producer02\", \"latitude\": \"-37.7972\", \"longitude\": \"143.1153\", \"Created_Time\": \"2019-05-24 22:15:16\", \"surface_temperature_celcius\": \"42\"}\n",
      "Message published successfully. {\"confidence\": \"56\", \"Sender_ID\": \"Producer02\", \"latitude\": \"-36.575\", \"longitude\": \"146.6668\", \"Created_Time\": \"2019-05-24 22:15:38\", \"surface_temperature_celcius\": \"40\"}\n",
      "Message published successfully. {\"confidence\": \"100\", \"Sender_ID\": \"Producer02\", \"latitude\": \"-37.406\", \"longitude\": \"148.123\", \"Created_Time\": \"2019-05-24 22:15:56\", \"surface_temperature_celcius\": \"88\"}\n",
      "Message published successfully. {\"confidence\": \"76\", \"Sender_ID\": \"Producer02\", \"latitude\": \"-36.4315\", \"longitude\": \"141.1987\", \"Created_Time\": \"2019-05-24 22:16:24\", \"surface_temperature_celcius\": \"49\"}\n",
      "Message published successfully. {\"confidence\": \"96\", \"Sender_ID\": \"Producer02\", \"latitude\": \"-37.7935\", \"longitude\": \"143.1606\", \"Created_Time\": \"2019-05-24 22:16:51\", \"surface_temperature_celcius\": \"78\"}\n",
      "Message published successfully. {\"confidence\": \"94\", \"Sender_ID\": \"Producer02\", \"latitude\": \"-36.3966\", \"longitude\": \"141.406\", \"Created_Time\": \"2019-05-24 22:17:10\", \"surface_temperature_celcius\": \"74\"}\n",
      "Message published successfully. {\"confidence\": \"85\", \"Sender_ID\": \"Producer02\", \"latitude\": \"-37.8078\", \"longitude\": \"143.3482\", \"Created_Time\": \"2019-05-24 22:17:22\", \"surface_temperature_celcius\": \"60\"}\n",
      "Message published successfully. {\"confidence\": \"68\", \"Sender_ID\": \"Producer02\", \"latitude\": \"-38.141\", \"longitude\": \"143.183\", \"Created_Time\": \"2019-05-24 22:17:39\", \"surface_temperature_celcius\": \"46\"}\n",
      "Message published successfully. {\"confidence\": \"72\", \"Sender_ID\": \"Producer02\", \"latitude\": \"-35.4594\", \"longitude\": \"143.7125\", \"Created_Time\": \"2019-05-24 22:18:02\", \"surface_temperature_celcius\": \"46\"}\n",
      "Message published successfully. {\"confidence\": \"100\", \"Sender_ID\": \"Producer02\", \"latitude\": \"-36.1057\", \"longitude\": \"141.7608\", \"Created_Time\": \"2019-05-24 22:18:21\", \"surface_temperature_celcius\": \"120\"}\n"
     ]
    },
    {
     "name": "stdout",
     "output_type": "stream",
     "text": [
      "Message published successfully. {\"confidence\": \"62\", \"Sender_ID\": \"Producer02\", \"latitude\": \"-38.0278\", \"longitude\": \"143.4528\", \"Created_Time\": \"2019-05-24 22:18:49\", \"surface_temperature_celcius\": \"43\"}\n",
      "Message published successfully. {\"confidence\": \"80\", \"Sender_ID\": \"Producer02\", \"latitude\": \"-37.466\", \"longitude\": \"148.143\", \"Created_Time\": \"2019-05-24 22:18:59\", \"surface_temperature_celcius\": \"46\"}\n",
      "Message published successfully. {\"confidence\": \"79\", \"Sender_ID\": \"Producer02\", \"latitude\": \"-36.6963\", \"longitude\": \"141.8645\", \"Created_Time\": \"2019-05-24 22:19:17\", \"surface_temperature_celcius\": \"52\"}\n",
      "Message published successfully. {\"confidence\": \"88\", \"Sender_ID\": \"Producer02\", \"latitude\": \"-37.333\", \"longitude\": \"143.534\", \"Created_Time\": \"2019-05-24 22:19:44\", \"surface_temperature_celcius\": \"58\"}\n",
      "Message published successfully. {\"confidence\": \"100\", \"Sender_ID\": \"Producer02\", \"latitude\": \"-36.8664\", \"longitude\": \"143.5299\", \"Created_Time\": \"2019-05-24 22:20:10\", \"surface_temperature_celcius\": \"110\"}\n",
      "Message published successfully. {\"confidence\": \"73\", \"Sender_ID\": \"Producer02\", \"latitude\": \"-36.2936\", \"longitude\": \"145.1053\", \"Created_Time\": \"2019-05-24 22:20:25\", \"surface_temperature_celcius\": \"47\"}\n",
      "Message published successfully. {\"confidence\": \"71\", \"Sender_ID\": \"Producer02\", \"latitude\": \"-37.5021\", \"longitude\": \"142.8861\", \"Created_Time\": \"2019-05-24 22:20:50\", \"surface_temperature_celcius\": \"48\"}\n",
      "Message published successfully. {\"confidence\": \"93\", \"Sender_ID\": \"Producer02\", \"latitude\": \"-36.1964\", \"longitude\": \"144.5217\", \"Created_Time\": \"2019-05-24 22:21:18\", \"surface_temperature_celcius\": \"72\"}\n",
      "Message published successfully. {\"confidence\": \"68\", \"Sender_ID\": \"Producer02\", \"latitude\": \"-38.0132\", \"longitude\": \"143.2528\", \"Created_Time\": \"2019-05-24 22:21:40\", \"surface_temperature_celcius\": \"44\"}\n",
      "Message published successfully. {\"confidence\": \"71\", \"Sender_ID\": \"Producer02\", \"latitude\": \"-37.7619\", \"longitude\": \"142.8294\", \"Created_Time\": \"2019-05-24 22:22:10\", \"surface_temperature_celcius\": \"46\"}\n",
      "Message published successfully. {\"confidence\": \"77\", \"Sender_ID\": \"Producer02\", \"latitude\": \"-36.7377\", \"longitude\": \"141.3299\", \"Created_Time\": \"2019-05-24 22:22:37\", \"surface_temperature_celcius\": \"50\"}\n",
      "Message published successfully. {\"confidence\": \"87\", \"Sender_ID\": \"Producer02\", \"latitude\": \"-36.3933\", \"longitude\": \"144.1287\", \"Created_Time\": \"2019-05-24 22:22:53\", \"surface_temperature_celcius\": \"63\"}\n",
      "Message published successfully. {\"confidence\": \"55\", \"Sender_ID\": \"Producer02\", \"latitude\": \"-36.2359\", \"longitude\": \"141.3007\", \"Created_Time\": \"2019-05-24 22:23:12\", \"surface_temperature_celcius\": \"41\"}\n",
      "Message published successfully. {\"confidence\": \"64\", \"Sender_ID\": \"Producer02\", \"latitude\": \"-36.4061\", \"longitude\": \"143.0987\", \"Created_Time\": \"2019-05-24 22:23:32\", \"surface_temperature_celcius\": \"42\"}\n",
      "Message published successfully. {\"confidence\": \"70\", \"Sender_ID\": \"Producer02\", \"latitude\": \"-37.4465\", \"longitude\": \"143.5163\", \"Created_Time\": \"2019-05-24 22:24:00\", \"surface_temperature_celcius\": \"50\"}\n",
      "Message published successfully. {\"confidence\": \"72\", \"Sender_ID\": \"Producer02\", \"latitude\": \"-37.8343\", \"longitude\": \"143.6581\", \"Created_Time\": \"2019-05-24 22:24:17\", \"surface_temperature_celcius\": \"46\"}\n",
      "Message published successfully. {\"confidence\": \"100\", \"Sender_ID\": \"Producer02\", \"latitude\": \"-36.6029\", \"longitude\": \"144.6259\", \"Created_Time\": \"2019-05-24 22:24:45\", \"surface_temperature_celcius\": \"115\"}\n",
      "Message published successfully. {\"confidence\": \"77\", \"Sender_ID\": \"Producer02\", \"latitude\": \"-36.4324\", \"longitude\": \"141.5582\", \"Created_Time\": \"2019-05-24 22:25:10\", \"surface_temperature_celcius\": \"52\"}\n",
      "Message published successfully. {\"confidence\": \"50\", \"Sender_ID\": \"Producer02\", \"latitude\": \"-36.1002\", \"longitude\": \"147.6494\", \"Created_Time\": \"2019-05-24 22:25:36\", \"surface_temperature_celcius\": \"39\"}\n",
      "Message published successfully. {\"confidence\": \"77\", \"Sender_ID\": \"Producer02\", \"latitude\": \"-38.0427\", \"longitude\": \"141.0271\", \"Created_Time\": \"2019-05-24 22:25:55\", \"surface_temperature_celcius\": \"50\"}\n",
      "Message published successfully. {\"confidence\": \"96\", \"Sender_ID\": \"Producer02\", \"latitude\": \"-36.3438\", \"longitude\": \"141.5832\", \"Created_Time\": \"2019-05-24 22:26:06\", \"surface_temperature_celcius\": \"78\"}\n",
      "Message published successfully. {\"confidence\": \"68\", \"Sender_ID\": \"Producer02\", \"latitude\": \"-36.9405\", \"longitude\": \"142.8627\", \"Created_Time\": \"2019-05-24 22:26:18\", \"surface_temperature_celcius\": \"44\"}\n",
      "Message published successfully. {\"confidence\": \"74\", \"Sender_ID\": \"Producer02\", \"latitude\": \"-36.8207\", \"longitude\": \"141.6407\", \"Created_Time\": \"2019-05-24 22:26:29\", \"surface_temperature_celcius\": \"48\"}\n",
      "Message published successfully. {\"confidence\": \"79\", \"Sender_ID\": \"Producer02\", \"latitude\": \"-34.2708\", \"longitude\": \"141.6158\", \"Created_Time\": \"2019-05-24 22:26:45\", \"surface_temperature_celcius\": \"52\"}\n",
      "Message published successfully. {\"confidence\": \"80\", \"Sender_ID\": \"Producer02\", \"latitude\": \"-34.2695\", \"longitude\": \"142.2025\", \"Created_Time\": \"2019-05-24 22:26:57\", \"surface_temperature_celcius\": \"54\"}\n",
      "Message published successfully. {\"confidence\": \"100\", \"Sender_ID\": \"Producer02\", \"latitude\": \"-37.9526\", \"longitude\": \"143.597\", \"Created_Time\": \"2019-05-24 22:27:20\", \"surface_temperature_celcius\": \"107\"}\n",
      "Message published successfully. {\"confidence\": \"74\", \"Sender_ID\": \"Producer02\", \"latitude\": \"-36.2995\", \"longitude\": \"145.6342\", \"Created_Time\": \"2019-05-24 22:27:34\", \"surface_temperature_celcius\": \"48\"}\n",
      "Message published successfully. {\"confidence\": \"73\", \"Sender_ID\": \"Producer02\", \"latitude\": \"-36.4204\", \"longitude\": \"141.3765\", \"Created_Time\": \"2019-05-24 22:28:04\", \"surface_temperature_celcius\": \"57\"}\n",
      "Message published successfully. {\"confidence\": \"60\", \"Sender_ID\": \"Producer02\", \"latitude\": \"-38.294\", \"longitude\": \"143.7227\", \"Created_Time\": \"2019-05-24 22:28:34\", \"surface_temperature_celcius\": \"41\"}\n",
      "Message published successfully. {\"confidence\": \"90\", \"Sender_ID\": \"Producer02\", \"latitude\": \"-37.4523\", \"longitude\": \"147.0175\", \"Created_Time\": \"2019-05-24 22:29:03\", \"surface_temperature_celcius\": \"66\"}\n",
      "Message published successfully. {\"confidence\": \"87\", \"Sender_ID\": \"Producer02\", \"latitude\": \"-36.4183\", \"longitude\": \"141.6816\", \"Created_Time\": \"2019-05-24 22:29:29\", \"surface_temperature_celcius\": \"62\"}\n",
      "Message published successfully. {\"confidence\": \"83\", \"Sender_ID\": \"Producer02\", \"latitude\": \"-34.8368\", \"longitude\": \"141.5197\", \"Created_Time\": \"2019-05-24 22:29:50\", \"surface_temperature_celcius\": \"56\"}\n",
      "Message published successfully. {\"confidence\": \"65\", \"Sender_ID\": \"Producer02\", \"latitude\": \"-38.0525\", \"longitude\": \"143.64\", \"Created_Time\": \"2019-05-24 22:30:01\", \"surface_temperature_celcius\": \"43\"}\n",
      "Message published successfully. {\"confidence\": \"100\", \"Sender_ID\": \"Producer02\", \"latitude\": \"-37.4492\", \"longitude\": \"148.2438\", \"Created_Time\": \"2019-05-24 22:30:13\", \"surface_temperature_celcius\": \"47\"}\n",
      "Message published successfully. {\"confidence\": \"79\", \"Sender_ID\": \"Producer02\", \"latitude\": \"-37.287\", \"longitude\": \"144.392\", \"Created_Time\": \"2019-05-24 22:30:39\", \"surface_temperature_celcius\": \"49\"}\n",
      "Message published successfully. {\"confidence\": \"77\", \"Sender_ID\": \"Producer02\", \"latitude\": \"-34.2674\", \"longitude\": \"141.6183\", \"Created_Time\": \"2019-05-24 22:31:02\", \"surface_temperature_celcius\": \"51\"}\n",
      "Message published successfully. {\"confidence\": \"87\", \"Sender_ID\": \"Producer02\", \"latitude\": \"-37.073\", \"longitude\": \"141.0811\", \"Created_Time\": \"2019-05-24 22:31:16\", \"surface_temperature_celcius\": \"61\"}\n",
      "Message published successfully. {\"confidence\": \"69\", \"Sender_ID\": \"Producer02\", \"latitude\": \"-36.6188\", \"longitude\": \"144.0402\", \"Created_Time\": \"2019-05-24 22:31:36\", \"surface_temperature_celcius\": \"44\"}\n",
      "Message published successfully. {\"confidence\": \"61\", \"Sender_ID\": \"Producer02\", \"latitude\": \"-36.1337\", \"longitude\": \"146.1243\", \"Created_Time\": \"2019-05-24 22:31:54\", \"surface_temperature_celcius\": \"41\"}\n",
      "Message published successfully. {\"confidence\": \"100\", \"Sender_ID\": \"Producer02\", \"latitude\": \"-36.1431\", \"longitude\": \"143.5499\", \"Created_Time\": \"2019-05-24 22:32:08\", \"surface_temperature_celcius\": \"102\"}\n"
     ]
    },
    {
     "name": "stdout",
     "output_type": "stream",
     "text": [
      "Message published successfully. {\"confidence\": \"67\", \"Sender_ID\": \"Producer02\", \"latitude\": \"-36.7314\", \"longitude\": \"141.8698\", \"Created_Time\": \"2019-05-24 22:32:35\", \"surface_temperature_celcius\": \"44\"}\n",
      "Message published successfully. {\"confidence\": \"72\", \"Sender_ID\": \"Producer02\", \"latitude\": \"-36.7072\", \"longitude\": \"143.4655\", \"Created_Time\": \"2019-05-24 22:32:55\", \"surface_temperature_celcius\": \"46\"}\n",
      "Message published successfully. {\"confidence\": \"56\", \"Sender_ID\": \"Producer02\", \"latitude\": \"-36.3883\", \"longitude\": \"143.7526\", \"Created_Time\": \"2019-05-24 22:33:09\", \"surface_temperature_celcius\": \"39\"}\n",
      "Message published successfully. {\"confidence\": \"55\", \"Sender_ID\": \"Producer02\", \"latitude\": \"-36.6217\", \"longitude\": \"142.0944\", \"Created_Time\": \"2019-05-24 22:33:25\", \"surface_temperature_celcius\": \"39\"}\n",
      "Message published successfully. {\"confidence\": \"83\", \"Sender_ID\": \"Producer02\", \"latitude\": \"-36.4025\", \"longitude\": \"142.5598\", \"Created_Time\": \"2019-05-24 22:33:44\", \"surface_temperature_celcius\": \"57\"}\n",
      "Message published successfully. {\"confidence\": \"100\", \"Sender_ID\": \"Producer02\", \"latitude\": \"-38.1917\", \"longitude\": \"147.0745\", \"Created_Time\": \"2019-05-24 22:33:59\", \"surface_temperature_celcius\": \"94\"}\n",
      "Message published successfully. {\"confidence\": \"54\", \"Sender_ID\": \"Producer02\", \"latitude\": \"-36.7453\", \"longitude\": \"141.4578\", \"Created_Time\": \"2019-05-24 22:34:25\", \"surface_temperature_celcius\": \"39\"}\n",
      "Message published successfully. {\"confidence\": \"86\", \"Sender_ID\": \"Producer02\", \"latitude\": \"-37.6775\", \"longitude\": \"148.5131\", \"Created_Time\": \"2019-05-24 22:34:54\", \"surface_temperature_celcius\": \"78\"}\n",
      "Message published successfully. {\"confidence\": \"100\", \"Sender_ID\": \"Producer02\", \"latitude\": \"-36.7786\", \"longitude\": \"145.178\", \"Created_Time\": \"2019-05-24 22:35:18\", \"surface_temperature_celcius\": \"105\"}\n",
      "Message published successfully. {\"confidence\": \"63\", \"Sender_ID\": \"Producer02\", \"latitude\": \"-36.952\", \"longitude\": \"144.972\", \"Created_Time\": \"2019-05-24 22:35:37\", \"surface_temperature_celcius\": \"60\"}\n",
      "Message published successfully. {\"confidence\": \"100\", \"Sender_ID\": \"Producer02\", \"latitude\": \"-36.4952\", \"longitude\": \"143.971\", \"Created_Time\": \"2019-05-24 22:36:07\", \"surface_temperature_celcius\": \"110\"}\n",
      "Message published successfully. {\"confidence\": \"69\", \"Sender_ID\": \"Producer02\", \"latitude\": \"-36.8403\", \"longitude\": \"147.5354\", \"Created_Time\": \"2019-05-24 22:36:19\", \"surface_temperature_celcius\": \"45\"}\n",
      "Message published successfully. {\"confidence\": \"61\", \"Sender_ID\": \"Producer02\", \"latitude\": \"-36.714\", \"longitude\": \"141.1485\", \"Created_Time\": \"2019-05-24 22:36:44\", \"surface_temperature_celcius\": \"41\"}\n",
      "Message published successfully. {\"confidence\": \"78\", \"Sender_ID\": \"Producer02\", \"latitude\": \"-36.834\", \"longitude\": \"142.524\", \"Created_Time\": \"2019-05-24 22:36:55\", \"surface_temperature_celcius\": \"44\"}\n",
      "Message published successfully. {\"confidence\": \"86\", \"Sender_ID\": \"Producer02\", \"latitude\": \"-36.8452\", \"longitude\": \"141.4882\", \"Created_Time\": \"2019-05-24 22:37:20\", \"surface_temperature_celcius\": \"60\"}\n",
      "Message published successfully. {\"confidence\": \"68\", \"Sender_ID\": \"Producer02\", \"latitude\": \"-36.7611\", \"longitude\": \"141.6048\", \"Created_Time\": \"2019-05-24 22:37:39\", \"surface_temperature_celcius\": \"44\"}\n",
      "Message published successfully. {\"confidence\": \"69\", \"Sender_ID\": \"Producer02\", \"latitude\": \"-38.4068\", \"longitude\": \"147.0682\", \"Created_Time\": \"2019-05-24 22:37:51\", \"surface_temperature_celcius\": \"44\"}\n",
      "Message published successfully. {\"confidence\": \"85\", \"Sender_ID\": \"Producer02\", \"latitude\": \"-36.9049\", \"longitude\": \"143.5416\", \"Created_Time\": \"2019-05-24 22:38:02\", \"surface_temperature_celcius\": \"59\"}\n",
      "Message published successfully. {\"confidence\": \"59\", \"Sender_ID\": \"Producer02\", \"latitude\": \"-36.251\", \"longitude\": \"142.5651\", \"Created_Time\": \"2019-05-24 22:38:17\", \"surface_temperature_celcius\": \"40\"}\n",
      "Message published successfully. {\"confidence\": \"81\", \"Sender_ID\": \"Producer02\", \"latitude\": \"-37.8777\", \"longitude\": \"143.371\", \"Created_Time\": \"2019-05-24 22:38:38\", \"surface_temperature_celcius\": \"54\"}\n",
      "Message published successfully. {\"confidence\": \"69\", \"Sender_ID\": \"Producer02\", \"latitude\": \"-36.6188\", \"longitude\": \"144.0402\", \"Created_Time\": \"2019-05-24 22:39:01\", \"surface_temperature_celcius\": \"44\"}\n",
      "Message published successfully. {\"confidence\": \"74\", \"Sender_ID\": \"Producer02\", \"latitude\": \"-37.8169\", \"longitude\": \"142.5723\", \"Created_Time\": \"2019-05-24 22:39:27\", \"surface_temperature_celcius\": \"48\"}\n",
      "Message published successfully. {\"confidence\": \"77\", \"Sender_ID\": \"Producer02\", \"latitude\": \"-37.3094\", \"longitude\": \"146.1945\", \"Created_Time\": \"2019-05-24 22:39:46\", \"surface_temperature_celcius\": \"60\"}\n",
      "Message published successfully. {\"confidence\": \"78\", \"Sender_ID\": \"Producer02\", \"latitude\": \"-36.834\", \"longitude\": \"142.524\", \"Created_Time\": \"2019-05-24 22:39:59\", \"surface_temperature_celcius\": \"44\"}\n",
      "Message published successfully. {\"confidence\": \"86\", \"Sender_ID\": \"Producer02\", \"latitude\": \"-37.863\", \"longitude\": \"144.17\", \"Created_Time\": \"2019-05-24 22:40:29\", \"surface_temperature_celcius\": \"60\"}\n",
      "Message published successfully. {\"confidence\": \"74\", \"Sender_ID\": \"Producer02\", \"latitude\": \"-37.564\", \"longitude\": \"147.992\", \"Created_Time\": \"2019-05-24 22:40:54\", \"surface_temperature_celcius\": \"44\"}\n",
      "Message published successfully. {\"confidence\": \"79\", \"Sender_ID\": \"Producer02\", \"latitude\": \"-34.5389\", \"longitude\": \"141.7032\", \"Created_Time\": \"2019-05-24 22:41:04\", \"surface_temperature_celcius\": \"53\"}\n",
      "Message published successfully. {\"confidence\": \"72\", \"Sender_ID\": \"Producer02\", \"latitude\": \"-36.6595\", \"longitude\": \"143.8887\", \"Created_Time\": \"2019-05-24 22:41:18\", \"surface_temperature_celcius\": \"46\"}\n",
      "Message published successfully. {\"confidence\": \"76\", \"Sender_ID\": \"Producer02\", \"latitude\": \"-35.962\", \"longitude\": \"143.791\", \"Created_Time\": \"2019-05-24 22:41:48\", \"surface_temperature_celcius\": \"42\"}\n",
      "Message published successfully. {\"confidence\": \"69\", \"Sender_ID\": \"Producer02\", \"latitude\": \"-36.059\", \"longitude\": \"143.7718\", \"Created_Time\": \"2019-05-24 22:42:07\", \"surface_temperature_celcius\": \"44\"}\n",
      "Message published successfully. {\"confidence\": \"69\", \"Sender_ID\": \"Producer02\", \"latitude\": \"-35.9903\", \"longitude\": \"142.2708\", \"Created_Time\": \"2019-05-24 22:42:32\", \"surface_temperature_celcius\": \"45\"}\n",
      "Message published successfully. {\"confidence\": \"51\", \"Sender_ID\": \"Producer02\", \"latitude\": \"-37.002\", \"longitude\": \"148.2055\", \"Created_Time\": \"2019-05-24 22:42:55\", \"surface_temperature_celcius\": \"44\"}\n",
      "Message published successfully. {\"confidence\": \"89\", \"Sender_ID\": \"Producer02\", \"latitude\": \"-36.5661\", \"longitude\": \"142.2956\", \"Created_Time\": \"2019-05-24 22:43:11\", \"surface_temperature_celcius\": \"65\"}\n",
      "Message published successfully. {\"confidence\": \"64\", \"Sender_ID\": \"Producer02\", \"latitude\": \"-36.3414\", \"longitude\": \"141.0295\", \"Created_Time\": \"2019-05-24 22:43:36\", \"surface_temperature_celcius\": \"42\"}\n",
      "Message published successfully. {\"confidence\": \"84\", \"Sender_ID\": \"Producer02\", \"latitude\": \"-35.1175\", \"longitude\": \"141.1396\", \"Created_Time\": \"2019-05-24 22:43:53\", \"surface_temperature_celcius\": \"58\"}\n",
      "Message published successfully. {\"confidence\": \"87\", \"Sender_ID\": \"Producer02\", \"latitude\": \"-37.4688\", \"longitude\": \"145.98\", \"Created_Time\": \"2019-05-24 22:44:07\", \"surface_temperature_celcius\": \"62\"}\n",
      "Message published successfully. {\"confidence\": \"68\", \"Sender_ID\": \"Producer02\", \"latitude\": \"-38.1131\", \"longitude\": \"143.7173\", \"Created_Time\": \"2019-05-24 22:44:30\", \"surface_temperature_celcius\": \"44\"}\n",
      "Message published successfully. {\"confidence\": \"60\", \"Sender_ID\": \"Producer02\", \"latitude\": \"-37.8469\", \"longitude\": \"143.5343\", \"Created_Time\": \"2019-05-24 22:44:49\", \"surface_temperature_celcius\": \"50\"}\n",
      "Message published successfully. {\"confidence\": \"64\", \"Sender_ID\": \"Producer02\", \"latitude\": \"-37.605\", \"longitude\": \"149.326\", \"Created_Time\": \"2019-05-24 22:45:12\", \"surface_temperature_celcius\": \"44\"}\n",
      "Message published successfully. {\"confidence\": \"77\", \"Sender_ID\": \"Producer02\", \"latitude\": \"-36.9085\", \"longitude\": \"141.2821\", \"Created_Time\": \"2019-05-24 22:45:32\", \"surface_temperature_celcius\": \"50\"}\n",
      "Message published successfully. {\"confidence\": \"58\", \"Sender_ID\": \"Producer02\", \"latitude\": \"-37.0459\", \"longitude\": \"142.7207\", \"Created_Time\": \"2019-05-24 22:45:52\", \"surface_temperature_celcius\": \"40\"}\n"
     ]
    },
    {
     "name": "stdout",
     "output_type": "stream",
     "text": [
      "Message published successfully. {\"confidence\": \"63\", \"Sender_ID\": \"Producer02\", \"latitude\": \"-37.9257\", \"longitude\": \"143.4891\", \"Created_Time\": \"2019-05-24 22:46:06\", \"surface_temperature_celcius\": \"54\"}\n"
     ]
    },
    {
     "ename": "KeyboardInterrupt",
     "evalue": "",
     "output_type": "error",
     "traceback": [
      "\u001b[0;31m---------------------------------------------------------------------------\u001b[0m",
      "\u001b[0;31mKeyboardInterrupt\u001b[0m                         Traceback (most recent call last)",
      "\u001b[0;32m<ipython-input-5-d1735533fc09>\u001b[0m in \u001b[0;36m<module>\u001b[0;34m()\u001b[0m\n\u001b[1;32m     14\u001b[0m     \u001b[0mpublish_message\u001b[0m\u001b[0;34m(\u001b[0m\u001b[0mproducer01\u001b[0m\u001b[0;34m,\u001b[0m \u001b[0mtopic\u001b[0m\u001b[0;34m,\u001b[0m \u001b[0;34m'Producer02'\u001b[0m \u001b[0;34m,\u001b[0m\u001b[0mjson\u001b[0m\u001b[0;34m.\u001b[0m\u001b[0mdumps\u001b[0m\u001b[0;34m(\u001b[0m\u001b[0mdata\u001b[0m\u001b[0;34m)\u001b[0m\u001b[0;34m)\u001b[0m\u001b[0;34m\u001b[0m\u001b[0m\n\u001b[1;32m     15\u001b[0m     \u001b[0;31m# Sleep for 10-30 seconds\u001b[0m\u001b[0;34m\u001b[0m\u001b[0;34m\u001b[0m\u001b[0m\n\u001b[0;32m---> 16\u001b[0;31m     \u001b[0msleep\u001b[0m\u001b[0;34m(\u001b[0m\u001b[0mrandom\u001b[0m\u001b[0;34m.\u001b[0m\u001b[0mrandint\u001b[0m\u001b[0;34m(\u001b[0m\u001b[0;36m10\u001b[0m\u001b[0;34m,\u001b[0m\u001b[0;36m30\u001b[0m\u001b[0;34m)\u001b[0m\u001b[0;34m)\u001b[0m\u001b[0;34m\u001b[0m\u001b[0m\n\u001b[0m",
      "\u001b[0;31mKeyboardInterrupt\u001b[0m: "
     ]
    }
   ],
   "source": [
    "topic = 'Producer'\n",
    "print('Publishing records..')\n",
    "producer01 = connect_kafka_producer()\n",
    "data_list = read_data()\n",
    "\n",
    "while True:\n",
    "    # Generate random number to select a line for the stream\n",
    "    random_number = random.randint(0,len(data_list)-1)\n",
    "    data = data_list[random_number]\n",
    "    # Add sender id and time for record\n",
    "    data['Sender_ID'] = 'Producer02'\n",
    "    data['Created_Time'] = str(dt.datetime.now().strftime(\"%Y-%m-%d %H:%M:%S\"))\n",
    "    # Publish message\n",
    "    publish_message(producer01, topic, 'Producer02' ,json.dumps(data))\n",
    "    # Sleep for 10-30 seconds\n",
    "    sleep(random.randint(10,30))"
   ]
  },
  {
   "cell_type": "code",
   "execution_count": null,
   "metadata": {},
   "outputs": [],
   "source": []
  }
 ],
 "metadata": {
  "kernelspec": {
   "display_name": "Python 3",
   "language": "python",
   "name": "python3"
  },
  "language_info": {
   "codemirror_mode": {
    "name": "ipython",
    "version": 3
   },
   "file_extension": ".py",
   "mimetype": "text/x-python",
   "name": "python",
   "nbconvert_exporter": "python",
   "pygments_lexer": "ipython3",
   "version": "3.7.3"
  },
  "varInspector": {
   "cols": {
    "lenName": 16,
    "lenType": 16,
    "lenVar": 40
   },
   "kernels_config": {
    "python": {
     "delete_cmd_postfix": "",
     "delete_cmd_prefix": "del ",
     "library": "var_list.py",
     "varRefreshCmd": "print(var_dic_list())"
    },
    "r": {
     "delete_cmd_postfix": ") ",
     "delete_cmd_prefix": "rm(",
     "library": "var_list.r",
     "varRefreshCmd": "cat(var_dic_list()) "
    }
   },
   "types_to_exclude": [
    "module",
    "function",
    "builtin_function_or_method",
    "instance",
    "_Feature"
   ],
   "window_display": true
  }
 },
 "nbformat": 4,
 "nbformat_minor": 2
}
